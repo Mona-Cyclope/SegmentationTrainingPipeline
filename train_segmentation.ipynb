{
 "cells": [
  {
   "cell_type": "code",
   "execution_count": 1,
   "metadata": {},
   "outputs": [],
   "source": [
    "train_batch_folder = \"data\"\n",
    "train_batches_json = [\"20210511_seg-batch-37-2021-05-11.json\", \"20210511_seg-batch-38-2021-05-11.json\", \"20210511_seg-batch-38-2021-05-11.json\", \n",
    "                      \"20210511_seg-batch-39-2021-05-11.json\", \"20210511_seg-batch-40-2021-05-11.json\", \"20210511_seg-batch-41-2021-05-11.json\",\n",
    "                      \"20210511_seg-batch-42-2021-05-11.json\", \"20210511_seg-batch-43-2021-05-11.json\", \"20210511_seg-batch-44-2021-05-11.json\",\n",
    "                      \"20210511_seg-batch-45-2021-05-11.json\", \"20210511_seg-batch-46-2021-05-11.json\", \"20210511_seg-batch-47-2021-05-11.json\",\n",
    "                      \"20210511_seg-batch-48-2021-05-11.json\", \"20210511_seg-batch-49-2021-05-11.json\", \"20210511_seg-batch-50-2021-05-11.json\",\n",
    "                      \"20210511_seg-batch-51-2021-05-11.json\", \"20210511_seg-batch-52-2021-05-11.json\", \"20210511_seg-batch-53-2021-05-11.json\",\n",
    "                      \"20210511_seg-batch-54-2021-05-11.json\", \"20210511_seg-batch-55-2021-05-11.json\", \"20210511_seg-batch-56-2021-05-11.json\",\n",
    "                      \"20210511_seg-batch-57-2021-05-11.json\", \"20210511_seg-batch-58-2021-05-11.json\", \"20210511_seg-batch-59-2021-05-11.json\",\n",
    "                      \"20210511_seg-batch-60-2021-05-11.json\", \"20210511_seg-batch-61-2021-05-11.json\", \"20210511_seg-batch-62-2021-05-11.json\",\n",
    "                      \"20210511_seg-batch-62-2021-05-11.json\", \"20210511_seg-batch-63-2021-05-11.json\", \"20210511_seg-batch-64-2021-05-11.json\",\n",
    "                      \"20210511_seg-batch-65-2021-05-11.json\", \"20210511_seg-batch-66-2021-05-11.json\", \"20210511_seg-batch-67-2021-05-11.json\",\n",
    "                    ]\n",
    "valid_batch_folder = \"data\"\n",
    "valid_batches_json = [\"20210511_seg-batch-68-2021-05-11.json\", \"20210511_seg-batch-69-2021-05-11.json\", \"20210511_seg-batch-70-2021-05-11.json\", \n",
    "                      \"20210511_seg-batch-71-2021-05-11.json\", \"20210511_seg-batch-72-2021-05-11.json\", \"20210511_seg-batch-73-2021-05-11.json\",\n",
    "                      \"20210511_seg-batch-74-2021-05-11.json\",\n",
    "                    ]\n",
    "label_dict = {\"Road\": 1, \"BAU\":2, \"SW\": 3}\n",
    "\n",
    "download_images = False\n",
    "resize_height_image = 720//3\n",
    "resize_width_image = 576//3\n",
    "channels_image = 3\n",
    "\n",
    "max_epochs = 100\n",
    "devices = [0]\n",
    "accelerator = \"gpu\"\n",
    "log_every_n_steps = 1\n",
    "train_batch_size = 32\n",
    "valid_batch_size = 32"
   ]
  },
  {
   "cell_type": "code",
   "execution_count": 4,
   "metadata": {},
   "outputs": [],
   "source": [
    "from configs import segmentation\n",
    "\n"
   ]
  },
  {
   "cell_type": "code",
   "execution_count": 2,
   "metadata": {},
   "outputs": [
    {
     "name": "stderr",
     "output_type": "stream",
     "text": [
      "/home/mviti/miniconda3/envs/Train_py37_th1_13_cu11/lib/python3.7/site-packages/tqdm/auto.py:22: TqdmWarning: IProgress not found. Please update jupyter and ipywidgets. See https://ipywidgets.readthedocs.io/en/stable/user_install.html\n",
      "  from .autonotebook import tqdm as notebook_tqdm\n",
      "download_lot: 100%|██████████| 39/39 [00:00<00:00, 615.47it/s]\n",
      "BufferedDataloader: 100%|██████████| 39/39 [00:00<00:00, 43.91it/s]\n",
      "download_lot: 100%|██████████| 39/39 [00:00<00:00, 445.04it/s]\n",
      "BufferedDataloader: 100%|██████████| 39/39 [00:00<00:00, 39.83it/s]\n",
      "download_lot: 100%|██████████| 39/39 [00:00<00:00, 434.51it/s]\n",
      "BufferedDataloader: 100%|██████████| 39/39 [00:00<00:00, 41.11it/s]\n",
      "download_lot: 100%|██████████| 39/39 [00:00<00:00, 524.07it/s]\n",
      "BufferedDataloader: 100%|██████████| 39/39 [00:00<00:00, 43.49it/s]\n",
      "download_lot: 100%|██████████| 39/39 [00:00<00:00, 574.06it/s]\n",
      "BufferedDataloader: 100%|██████████| 39/39 [00:00<00:00, 43.94it/s]\n",
      "download_lot: 100%|██████████| 39/39 [00:00<00:00, 489.54it/s]\n",
      "BufferedDataloader: 100%|██████████| 39/39 [00:01<00:00, 37.89it/s]\n",
      "download_lot: 100%|██████████| 39/39 [00:00<00:00, 463.78it/s]\n",
      "BufferedDataloader: 100%|██████████| 39/39 [00:01<00:00, 38.53it/s]\n",
      "download_lot: 100%|██████████| 39/39 [00:00<00:00, 544.75it/s]\n",
      "BufferedDataloader: 100%|██████████| 39/39 [00:00<00:00, 42.91it/s]\n",
      "download_lot: 100%|██████████| 39/39 [00:00<00:00, 557.40it/s]\n",
      "BufferedDataloader: 100%|██████████| 39/39 [00:00<00:00, 41.12it/s]\n",
      "download_lot: 100%|██████████| 39/39 [00:00<00:00, 501.35it/s]\n",
      "BufferedDataloader: 100%|██████████| 39/39 [00:00<00:00, 40.99it/s]\n",
      "download_lot: 100%|██████████| 39/39 [00:00<00:00, 534.82it/s]\n",
      "BufferedDataloader: 100%|██████████| 39/39 [00:00<00:00, 41.36it/s]\n",
      "download_lot: 100%|██████████| 39/39 [00:00<00:00, 820.17it/s]\n",
      "BufferedDataloader:   0%|          | 0/39 [00:00<?, ?it/s]dataloaders 2022-12-02:13:12:28,304 WARNING  [io.py:63] found annotation label not in label dictionary: Parking\n",
      "dataloaders 2022-12-02:13:12:28,341 WARNING  [io.py:63] found annotation label not in label dictionary: Parking\n",
      "BufferedDataloader:  23%|██▎       | 9/39 [00:00<00:00, 81.08it/s]dataloaders 2022-12-02:13:12:28,396 WARNING  [io.py:63] found annotation label not in label dictionary: Parking\n",
      "dataloaders 2022-12-02:13:12:28,424 WARNING  [io.py:63] found annotation label not in label dictionary: Parking\n",
      "BufferedDataloader:  46%|████▌     | 18/39 [00:00<00:00, 82.19it/s]dataloaders 2022-12-02:13:12:28,492 WARNING  [io.py:63] found annotation label not in label dictionary: Parking\n",
      "dataloaders 2022-12-02:13:12:28,530 WARNING  [io.py:63] found annotation label not in label dictionary: Parking\n",
      "dataloaders 2022-12-02:13:12:28,601 WARNING  [io.py:63] found annotation label not in label dictionary: Parking\n",
      "BufferedDataloader:  69%|██████▉   | 27/39 [00:00<00:00, 76.52it/s]dataloaders 2022-12-02:13:12:28,619 WARNING  [io.py:63] found annotation label not in label dictionary: Parking\n",
      "dataloaders 2022-12-02:13:12:28,708 WARNING  [io.py:63] found annotation label not in label dictionary: Parking\n",
      "BufferedDataloader: 100%|██████████| 39/39 [00:00<00:00, 81.67it/s]\n",
      "download_lot: 100%|██████████| 39/39 [00:00<00:00, 680.04it/s]\n",
      "BufferedDataloader:   0%|          | 0/39 [00:00<?, ?it/s]dataloaders 2022-12-02:13:12:28,826 WARNING  [io.py:63] found annotation label not in label dictionary: Parking\n",
      "dataloaders 2022-12-02:13:12:28,847 WARNING  [io.py:63] found annotation label not in label dictionary: Parking\n",
      "dataloaders 2022-12-02:13:12:28,888 WARNING  [io.py:63] found annotation label not in label dictionary: Parking\n",
      "dataloaders 2022-12-02:13:12:28,908 WARNING  [io.py:63] found annotation label not in label dictionary: Parking\n",
      "BufferedDataloader:  13%|█▎        | 5/39 [00:00<00:00, 47.11it/s]dataloaders 2022-12-02:13:12:28,949 WARNING  [io.py:63] found annotation label not in label dictionary: Parking\n",
      "dataloaders 2022-12-02:13:12:28,987 WARNING  [io.py:63] found annotation label not in label dictionary: Parking\n",
      "dataloaders 2022-12-02:13:12:29,006 WARNING  [io.py:63] found annotation label not in label dictionary: Parking\n",
      "dataloaders 2022-12-02:13:12:29,026 WARNING  [io.py:63] found annotation label not in label dictionary: Parking\n",
      "BufferedDataloader:  28%|██▊       | 11/39 [00:00<00:00, 49.20it/s]dataloaders 2022-12-02:13:12:29,048 WARNING  [io.py:63] found annotation label not in label dictionary: Parking\n",
      "dataloaders 2022-12-02:13:12:29,070 WARNING  [io.py:63] found annotation label not in label dictionary: Parking\n",
      "dataloaders 2022-12-02:13:12:29,090 WARNING  [io.py:63] found annotation label not in label dictionary: Parking\n",
      "dataloaders 2022-12-02:13:12:29,111 WARNING  [io.py:63] found annotation label not in label dictionary: Parking\n",
      "dataloaders 2022-12-02:13:12:29,128 WARNING  [io.py:63] found annotation label not in label dictionary: Parking\n",
      "BufferedDataloader:  41%|████      | 16/39 [00:00<00:00, 49.26it/s]dataloaders 2022-12-02:13:12:29,169 WARNING  [io.py:63] found annotation label not in label dictionary: Parking\n",
      "dataloaders 2022-12-02:13:12:29,210 WARNING  [io.py:63] found annotation label not in label dictionary: Parking\n",
      "BufferedDataloader:  54%|█████▍    | 21/39 [00:00<00:00, 49.37it/s]dataloaders 2022-12-02:13:12:29,247 WARNING  [io.py:63] found annotation label not in label dictionary: Parking\n",
      "dataloaders 2022-12-02:13:12:29,267 WARNING  [io.py:63] found annotation label not in label dictionary: Parking\n",
      "dataloaders 2022-12-02:13:12:29,289 WARNING  [io.py:63] found annotation label not in label dictionary: Parking\n",
      "dataloaders 2022-12-02:13:12:29,308 WARNING  [io.py:63] found annotation label not in label dictionary: Parking\n",
      "dataloaders 2022-12-02:13:12:29,330 WARNING  [io.py:63] found annotation label not in label dictionary: Parking\n",
      "BufferedDataloader:  67%|██████▋   | 26/39 [00:00<00:00, 49.42it/s]dataloaders 2022-12-02:13:12:29,350 WARNING  [io.py:63] found annotation label not in label dictionary: Parking\n",
      "dataloaders 2022-12-02:13:12:29,368 WARNING  [io.py:63] found annotation label not in label dictionary: Parking\n",
      "dataloaders 2022-12-02:13:12:29,390 WARNING  [io.py:63] found annotation label not in label dictionary: Parking\n",
      "dataloaders 2022-12-02:13:12:29,424 WARNING  [io.py:63] found annotation label not in label dictionary: Parking\n",
      "dataloaders 2022-12-02:13:12:29,445 WARNING  [io.py:63] found annotation label not in label dictionary: Parking\n",
      "BufferedDataloader:  82%|████████▏ | 32/39 [00:00<00:00, 50.44it/s]dataloaders 2022-12-02:13:12:29,471 WARNING  [io.py:63] found annotation label not in label dictionary: Parking\n",
      "dataloaders 2022-12-02:13:12:29,533 WARNING  [io.py:63] found annotation label not in label dictionary: Parking\n",
      "dataloaders 2022-12-02:13:12:29,552 WARNING  [io.py:63] found annotation label not in label dictionary: Parking\n",
      "dataloaders 2022-12-02:13:12:29,572 WARNING  [io.py:63] found annotation label not in label dictionary: Parking\n",
      "BufferedDataloader:  97%|█████████▋| 38/39 [00:00<00:00, 49.27it/s]dataloaders 2022-12-02:13:12:29,597 WARNING  [io.py:63] found annotation label not in label dictionary: Parking\n",
      "BufferedDataloader: 100%|██████████| 39/39 [00:00<00:00, 49.02it/s]\n",
      "download_lot: 100%|██████████| 39/39 [00:00<00:00, 383.21it/s]\n",
      "BufferedDataloader: 100%|██████████| 39/39 [00:00<00:00, 41.81it/s]\n",
      "download_lot: 100%|██████████| 39/39 [00:00<00:00, 520.17it/s]\n",
      "BufferedDataloader: 100%|██████████| 39/39 [00:00<00:00, 41.57it/s]\n",
      "download_lot: 100%|██████████| 39/39 [00:00<00:00, 512.71it/s]\n",
      "BufferedDataloader: 100%|██████████| 39/39 [00:00<00:00, 43.01it/s]\n",
      "download_lot: 100%|██████████| 39/39 [00:00<00:00, 424.97it/s]\n",
      "BufferedDataloader: 100%|██████████| 39/39 [00:00<00:00, 42.39it/s]\n",
      "download_lot: 100%|██████████| 39/39 [00:00<00:00, 507.33it/s]\n",
      "BufferedDataloader: 100%|██████████| 39/39 [00:00<00:00, 41.99it/s]\n",
      "download_lot: 100%|██████████| 39/39 [00:00<00:00, 494.83it/s]\n",
      "BufferedDataloader: 100%|██████████| 39/39 [00:00<00:00, 39.39it/s]\n",
      "download_lot: 100%|██████████| 39/39 [00:00<00:00, 542.55it/s]\n",
      "BufferedDataloader:  10%|█         | 4/39 [00:00<00:00, 39.71it/s]dataloaders 2022-12-02:13:12:36,033 WARNING  [io.py:63] found annotation label not in label dictionary: Parking\n",
      "BufferedDataloader:  23%|██▎       | 9/39 [00:00<00:00, 39.34it/s]dataloaders 2022-12-02:13:12:36,186 WARNING  [io.py:63] found annotation label not in label dictionary: Parking\n",
      "BufferedDataloader:  36%|███▌      | 14/39 [00:00<00:00, 40.17it/s]dataloaders 2022-12-02:13:12:36,309 WARNING  [io.py:63] found annotation label not in label dictionary: Parking\n",
      "BufferedDataloader:  49%|████▊     | 19/39 [00:00<00:00, 41.57it/s]dataloaders 2022-12-02:13:12:36,420 WARNING  [io.py:63] found annotation label not in label dictionary: Parking\n",
      "dataloaders 2022-12-02:13:12:36,470 WARNING  [io.py:63] found annotation label not in label dictionary: Parking\n",
      "BufferedDataloader:  62%|██████▏   | 24/39 [00:00<00:00, 41.32it/s]dataloaders 2022-12-02:13:12:36,525 WARNING  [io.py:63] found annotation label not in label dictionary: Parking\n",
      "BufferedDataloader:  74%|███████▍  | 29/39 [00:00<00:00, 41.44it/s]dataloaders 2022-12-02:13:12:36,639 WARNING  [io.py:63] found annotation label not in label dictionary: Parking\n",
      "BufferedDataloader:  87%|████████▋ | 34/39 [00:00<00:00, 42.50it/s]dataloaders 2022-12-02:13:12:36,793 WARNING  [io.py:63] found annotation label not in label dictionary: Parking\n",
      "dataloaders 2022-12-02:13:12:36,816 WARNING  [io.py:63] found annotation label not in label dictionary: Parking\n",
      "BufferedDataloader: 100%|██████████| 39/39 [00:00<00:00, 41.87it/s]\n",
      "download_lot: 100%|██████████| 39/39 [00:00<00:00, 445.44it/s]\n",
      "BufferedDataloader: 0it [00:00, ?it/s]\n",
      "download_lot: 100%|██████████| 39/39 [00:00<00:00, 494.91it/s]\n",
      "BufferedDataloader:   0%|          | 0/39 [00:00<?, ?it/s]dataloaders 2022-12-02:13:12:37,066 WARNING  [io.py:63] found annotation label not in label dictionary: Parking\n",
      "dataloaders 2022-12-02:13:12:37,091 WARNING  [io.py:63] found annotation label not in label dictionary: Parking\n",
      "dataloaders 2022-12-02:13:12:37,124 WARNING  [io.py:63] found annotation label not in label dictionary: Parking\n",
      "dataloaders 2022-12-02:13:12:37,149 WARNING  [io.py:63] found annotation label not in label dictionary: Parking\n",
      "BufferedDataloader:  10%|█         | 4/39 [00:00<00:00, 36.66it/s]dataloaders 2022-12-02:13:12:37,174 WARNING  [io.py:63] found annotation label not in label dictionary: Parking\n",
      "dataloaders 2022-12-02:13:12:37,201 WARNING  [io.py:63] found annotation label not in label dictionary: Parking\n",
      "dataloaders 2022-12-02:13:12:37,223 WARNING  [io.py:63] found annotation label not in label dictionary: Parking\n",
      "dataloaders 2022-12-02:13:12:37,250 WARNING  [io.py:63] found annotation label not in label dictionary: Parking\n",
      "BufferedDataloader:  21%|██        | 8/39 [00:00<00:00, 38.36it/s]dataloaders 2022-12-02:13:12:37,277 WARNING  [io.py:63] found annotation label not in label dictionary: Parking\n",
      "dataloaders 2022-12-02:13:12:37,304 WARNING  [io.py:63] found annotation label not in label dictionary: Parking\n",
      "dataloaders 2022-12-02:13:12:37,329 WARNING  [io.py:63] found annotation label not in label dictionary: Parking\n",
      "dataloaders 2022-12-02:13:12:37,353 WARNING  [io.py:63] found annotation label not in label dictionary: Parking\n",
      "BufferedDataloader:  31%|███       | 12/39 [00:00<00:00, 38.64it/s]dataloaders 2022-12-02:13:12:37,376 WARNING  [io.py:63] found annotation label not in label dictionary: Parking\n",
      "dataloaders 2022-12-02:13:12:37,404 WARNING  [io.py:63] found annotation label not in label dictionary: Parking\n",
      "dataloaders 2022-12-02:13:12:37,426 WARNING  [io.py:63] found annotation label not in label dictionary: Parking\n",
      "dataloaders 2022-12-02:13:12:37,447 WARNING  [io.py:63] found annotation label not in label dictionary: Parking\n",
      "dataloaders 2022-12-02:13:12:37,470 WARNING  [io.py:63] found annotation label not in label dictionary: Parking\n",
      "BufferedDataloader:  44%|████▎     | 17/39 [00:00<00:00, 40.32it/s]dataloaders 2022-12-02:13:12:37,495 WARNING  [io.py:63] found annotation label not in label dictionary: Parking\n",
      "dataloaders 2022-12-02:13:12:37,521 WARNING  [io.py:63] found annotation label not in label dictionary: Parking\n",
      "dataloaders 2022-12-02:13:12:37,540 WARNING  [io.py:63] found annotation label not in label dictionary: Parking\n",
      "dataloaders 2022-12-02:13:12:37,566 WARNING  [io.py:63] found annotation label not in label dictionary: Parking\n",
      "dataloaders 2022-12-02:13:12:37,590 WARNING  [io.py:63] found annotation label not in label dictionary: Parking\n",
      "BufferedDataloader:  56%|█████▋    | 22/39 [00:00<00:00, 40.93it/s]dataloaders 2022-12-02:13:12:37,614 WARNING  [io.py:63] found annotation label not in label dictionary: Parking\n",
      "dataloaders 2022-12-02:13:12:37,634 WARNING  [io.py:63] found annotation label not in label dictionary: Parking\n",
      "dataloaders 2022-12-02:13:12:37,658 WARNING  [io.py:63] found annotation label not in label dictionary: Parking\n",
      "dataloaders 2022-12-02:13:12:37,685 WARNING  [io.py:63] found annotation label not in label dictionary: Parking\n",
      "dataloaders 2022-12-02:13:12:37,708 WARNING  [io.py:63] found annotation label not in label dictionary: Parking\n",
      "BufferedDataloader:  69%|██████▉   | 27/39 [00:00<00:00, 41.34it/s]dataloaders 2022-12-02:13:12:37,731 WARNING  [io.py:63] found annotation label not in label dictionary: Parking\n",
      "dataloaders 2022-12-02:13:12:37,754 WARNING  [io.py:63] found annotation label not in label dictionary: Parking\n",
      "dataloaders 2022-12-02:13:12:37,778 WARNING  [io.py:63] found annotation label not in label dictionary: Parking\n",
      "dataloaders 2022-12-02:13:12:37,809 WARNING  [io.py:63] found annotation label not in label dictionary: Parking\n",
      "dataloaders 2022-12-02:13:12:37,834 WARNING  [io.py:63] found annotation label not in label dictionary: Parking\n",
      "BufferedDataloader:  82%|████████▏ | 32/39 [00:00<00:00, 40.80it/s]dataloaders 2022-12-02:13:12:37,855 WARNING  [io.py:63] found annotation label not in label dictionary: Parking\n",
      "dataloaders 2022-12-02:13:12:37,878 WARNING  [io.py:63] found annotation label not in label dictionary: Parking\n",
      "dataloaders 2022-12-02:13:12:37,903 WARNING  [io.py:63] found annotation label not in label dictionary: Parking\n",
      "dataloaders 2022-12-02:13:12:37,932 WARNING  [io.py:63] found annotation label not in label dictionary: Parking\n",
      "dataloaders 2022-12-02:13:12:37,961 WARNING  [io.py:63] found annotation label not in label dictionary: Parking\n",
      "BufferedDataloader:  95%|█████████▍| 37/39 [00:00<00:00, 40.25it/s]dataloaders 2022-12-02:13:12:37,988 WARNING  [io.py:63] found annotation label not in label dictionary: Parking\n",
      "dataloaders 2022-12-02:13:12:38,010 WARNING  [io.py:63] found annotation label not in label dictionary: Parking\n",
      "BufferedDataloader: 100%|██████████| 39/39 [00:00<00:00, 40.19it/s]\n",
      "download_lot: 100%|██████████| 39/39 [00:00<00:00, 496.64it/s]\n",
      "BufferedDataloader:   0%|          | 0/39 [00:00<?, ?it/s]dataloaders 2022-12-02:13:12:38,131 WARNING  [io.py:63] found annotation label not in label dictionary: Parking\n",
      "dataloaders 2022-12-02:13:12:38,153 WARNING  [io.py:63] found annotation label not in label dictionary: Parking\n",
      "dataloaders 2022-12-02:13:12:38,177 WARNING  [io.py:63] found annotation label not in label dictionary: Parking\n",
      "dataloaders 2022-12-02:13:12:38,209 WARNING  [io.py:63] found annotation label not in label dictionary: Parking\n",
      "BufferedDataloader:  10%|█         | 4/39 [00:00<00:00, 38.30it/s]dataloaders 2022-12-02:13:12:38,234 WARNING  [io.py:63] found annotation label not in label dictionary: Parking\n",
      "dataloaders 2022-12-02:13:12:38,256 WARNING  [io.py:63] found annotation label not in label dictionary: Parking\n",
      "dataloaders 2022-12-02:13:12:38,306 WARNING  [io.py:63] found annotation label not in label dictionary: Parking\n",
      "dataloaders 2022-12-02:13:12:38,325 WARNING  [io.py:63] found annotation label not in label dictionary: Parking\n",
      "BufferedDataloader:  23%|██▎       | 9/39 [00:00<00:00, 41.27it/s]dataloaders 2022-12-02:13:12:38,349 WARNING  [io.py:63] found annotation label not in label dictionary: Parking\n",
      "dataloaders 2022-12-02:13:12:38,372 WARNING  [io.py:63] found annotation label not in label dictionary: Parking\n",
      "dataloaders 2022-12-02:13:12:38,396 WARNING  [io.py:63] found annotation label not in label dictionary: Parking\n",
      "dataloaders 2022-12-02:13:12:38,420 WARNING  [io.py:63] found annotation label not in label dictionary: Parking\n",
      "dataloaders 2022-12-02:13:12:38,442 WARNING  [io.py:63] found annotation label not in label dictionary: Parking\n",
      "BufferedDataloader:  36%|███▌      | 14/39 [00:00<00:00, 41.92it/s]dataloaders 2022-12-02:13:12:38,465 WARNING  [io.py:63] found annotation label not in label dictionary: Parking\n",
      "dataloaders 2022-12-02:13:12:38,493 WARNING  [io.py:63] found annotation label not in label dictionary: Parking\n",
      "dataloaders 2022-12-02:13:12:38,515 WARNING  [io.py:63] found annotation label not in label dictionary: Parking\n",
      "dataloaders 2022-12-02:13:12:38,558 WARNING  [io.py:63] found annotation label not in label dictionary: Parking\n",
      "BufferedDataloader:  49%|████▊     | 19/39 [00:00<00:00, 42.39it/s]dataloaders 2022-12-02:13:12:38,585 WARNING  [io.py:63] found annotation label not in label dictionary: Parking\n",
      "dataloaders 2022-12-02:13:12:38,612 WARNING  [io.py:63] found annotation label not in label dictionary: Parking\n",
      "dataloaders 2022-12-02:13:12:38,663 WARNING  [io.py:63] found annotation label not in label dictionary: Parking\n",
      "dataloaders 2022-12-02:13:12:38,686 WARNING  [io.py:63] found annotation label not in label dictionary: Parking\n",
      "BufferedDataloader:  62%|██████▏   | 24/39 [00:00<00:00, 41.07it/s]dataloaders 2022-12-02:13:12:38,712 WARNING  [io.py:63] found annotation label not in label dictionary: Parking\n",
      "dataloaders 2022-12-02:13:12:38,778 WARNING  [io.py:63] found annotation label not in label dictionary: Parking\n",
      "dataloaders 2022-12-02:13:12:38,798 WARNING  [io.py:63] found annotation label not in label dictionary: Parking\n",
      "BufferedDataloader:  74%|███████▍  | 29/39 [00:00<00:00, 42.30it/s]dataloaders 2022-12-02:13:12:38,845 WARNING  [io.py:63] found annotation label not in label dictionary: Parking\n",
      "dataloaders 2022-12-02:13:12:38,869 WARNING  [io.py:63] found annotation label not in label dictionary: Parking\n",
      "dataloaders 2022-12-02:13:12:38,893 WARNING  [io.py:63] found annotation label not in label dictionary: Parking\n",
      "BufferedDataloader:  87%|████████▋ | 34/39 [00:00<00:00, 42.17it/s]dataloaders 2022-12-02:13:12:38,964 WARNING  [io.py:63] found annotation label not in label dictionary: Parking\n",
      "dataloaders 2022-12-02:13:12:38,991 WARNING  [io.py:63] found annotation label not in label dictionary: Parking\n",
      "dataloaders 2022-12-02:13:12:39,017 WARNING  [io.py:63] found annotation label not in label dictionary: Parking\n",
      "BufferedDataloader: 100%|██████████| 39/39 [00:00<00:00, 41.50it/s]\n",
      "download_lot: 100%|██████████| 39/39 [00:00<00:00, 552.56it/s]\n",
      "BufferedDataloader: 100%|██████████| 39/39 [00:00<00:00, 45.64it/s]\n",
      "download_lot: 100%|██████████| 39/39 [00:00<00:00, 516.81it/s]\n",
      "BufferedDataloader:   0%|          | 0/39 [00:00<?, ?it/s]dataloaders 2022-12-02:13:12:40,186 WARNING  [io.py:63] found annotation label not in label dictionary: Parking\n",
      "BufferedDataloader:  13%|█▎        | 5/39 [00:00<00:00, 44.58it/s]dataloaders 2022-12-02:13:12:40,227 WARNING  [io.py:63] found annotation label not in label dictionary: Parking\n",
      "dataloaders 2022-12-02:13:12:40,249 WARNING  [io.py:63] found annotation label not in label dictionary: Parking\n",
      "BufferedDataloader:  26%|██▌       | 10/39 [00:00<00:00, 45.25it/s]dataloaders 2022-12-02:13:12:40,395 WARNING  [io.py:63] found annotation label not in label dictionary: Parking\n",
      "BufferedDataloader:  64%|██████▍   | 25/39 [00:00<00:00, 44.61it/s]dataloaders 2022-12-02:13:12:40,728 WARNING  [io.py:63] found annotation label not in label dictionary: Parking\n",
      "dataloaders 2022-12-02:13:12:40,751 WARNING  [io.py:63] found annotation label not in label dictionary: Parking\n",
      "BufferedDataloader:  77%|███████▋  | 30/39 [00:00<00:00, 44.34it/s]dataloaders 2022-12-02:13:12:40,780 WARNING  [io.py:63] found annotation label not in label dictionary: Parking\n",
      "dataloaders 2022-12-02:13:12:40,871 WARNING  [io.py:63] found annotation label not in label dictionary: Parking\n",
      "BufferedDataloader:  90%|████████▉ | 35/39 [00:00<00:00, 43.41it/s]dataloaders 2022-12-02:13:12:40,960 WARNING  [io.py:63] found annotation label not in label dictionary: Parking\n",
      "BufferedDataloader: 100%|██████████| 39/39 [00:00<00:00, 43.94it/s]\n",
      "download_lot: 100%|██████████| 39/39 [00:00<00:00, 542.12it/s]\n",
      "BufferedDataloader:   0%|          | 0/39 [00:00<?, ?it/s]dataloaders 2022-12-02:13:12:41,072 WARNING  [io.py:63] found annotation label not in label dictionary: Parking\n",
      "dataloaders 2022-12-02:13:12:41,095 WARNING  [io.py:63] found annotation label not in label dictionary: Parking\n",
      "dataloaders 2022-12-02:13:12:41,122 WARNING  [io.py:63] found annotation label not in label dictionary: Parking\n",
      "dataloaders 2022-12-02:13:12:41,150 WARNING  [io.py:63] found annotation label not in label dictionary: Parking\n",
      "BufferedDataloader:  10%|█         | 4/39 [00:00<00:00, 38.75it/s]dataloaders 2022-12-02:13:12:41,173 WARNING  [io.py:63] found annotation label not in label dictionary: Parking\n",
      "dataloaders 2022-12-02:13:12:41,195 WARNING  [io.py:63] found annotation label not in label dictionary: Parking\n",
      "dataloaders 2022-12-02:13:12:41,215 WARNING  [io.py:63] found annotation label not in label dictionary: Parking\n",
      "dataloaders 2022-12-02:13:12:41,235 WARNING  [io.py:63] found annotation label not in label dictionary: Parking\n",
      "dataloaders 2022-12-02:13:12:41,258 WARNING  [io.py:63] found annotation label not in label dictionary: Parking\n",
      "BufferedDataloader:  23%|██▎       | 9/39 [00:00<00:00, 43.60it/s]dataloaders 2022-12-02:13:12:41,280 WARNING  [io.py:63] found annotation label not in label dictionary: Parking\n",
      "dataloaders 2022-12-02:13:12:41,299 WARNING  [io.py:63] found annotation label not in label dictionary: Parking\n",
      "dataloaders 2022-12-02:13:12:41,322 WARNING  [io.py:63] found annotation label not in label dictionary: Parking\n",
      "dataloaders 2022-12-02:13:12:41,346 WARNING  [io.py:63] found annotation label not in label dictionary: Parking\n",
      "dataloaders 2022-12-02:13:12:41,371 WARNING  [io.py:63] found annotation label not in label dictionary: Parking\n",
      "BufferedDataloader:  36%|███▌      | 14/39 [00:00<00:00, 43.49it/s]dataloaders 2022-12-02:13:12:41,398 WARNING  [io.py:63] found annotation label not in label dictionary: Parking\n",
      "dataloaders 2022-12-02:13:12:41,426 WARNING  [io.py:63] found annotation label not in label dictionary: Parking\n",
      "dataloaders 2022-12-02:13:12:41,448 WARNING  [io.py:63] found annotation label not in label dictionary: Parking\n",
      "dataloaders 2022-12-02:13:12:41,470 WARNING  [io.py:63] found annotation label not in label dictionary: Parking\n",
      "dataloaders 2022-12-02:13:12:41,491 WARNING  [io.py:63] found annotation label not in label dictionary: Parking\n",
      "BufferedDataloader:  49%|████▊     | 19/39 [00:00<00:00, 42.72it/s]dataloaders 2022-12-02:13:12:41,515 WARNING  [io.py:63] found annotation label not in label dictionary: Parking\n",
      "dataloaders 2022-12-02:13:12:41,537 WARNING  [io.py:63] found annotation label not in label dictionary: Parking\n",
      "dataloaders 2022-12-02:13:12:41,559 WARNING  [io.py:63] found annotation label not in label dictionary: Parking\n",
      "dataloaders 2022-12-02:13:12:41,580 WARNING  [io.py:63] found annotation label not in label dictionary: Parking\n",
      "dataloaders 2022-12-02:13:12:41,600 WARNING  [io.py:63] found annotation label not in label dictionary: Parking\n",
      "BufferedDataloader:  62%|██████▏   | 24/39 [00:00<00:00, 43.90it/s]dataloaders 2022-12-02:13:12:41,624 WARNING  [io.py:63] found annotation label not in label dictionary: Parking\n",
      "dataloaders 2022-12-02:13:12:41,647 WARNING  [io.py:63] found annotation label not in label dictionary: Parking\n",
      "dataloaders 2022-12-02:13:12:41,672 WARNING  [io.py:63] found annotation label not in label dictionary: Parking\n",
      "dataloaders 2022-12-02:13:12:41,696 WARNING  [io.py:63] found annotation label not in label dictionary: Parking\n",
      "dataloaders 2022-12-02:13:12:41,720 WARNING  [io.py:63] found annotation label not in label dictionary: Parking\n",
      "BufferedDataloader:  74%|███████▍  | 29/39 [00:00<00:00, 43.19it/s]dataloaders 2022-12-02:13:12:41,743 WARNING  [io.py:63] found annotation label not in label dictionary: Parking\n",
      "dataloaders 2022-12-02:13:12:41,767 WARNING  [io.py:63] found annotation label not in label dictionary: Parking\n",
      "dataloaders 2022-12-02:13:12:41,788 WARNING  [io.py:63] found annotation label not in label dictionary: Parking\n",
      "dataloaders 2022-12-02:13:12:41,811 WARNING  [io.py:63] found annotation label not in label dictionary: Parking\n",
      "dataloaders 2022-12-02:13:12:41,833 WARNING  [io.py:63] found annotation label not in label dictionary: Parking\n",
      "BufferedDataloader:  87%|████████▋ | 34/39 [00:00<00:00, 43.37it/s]dataloaders 2022-12-02:13:12:41,860 WARNING  [io.py:63] found annotation label not in label dictionary: Parking\n",
      "dataloaders 2022-12-02:13:12:41,882 WARNING  [io.py:63] found annotation label not in label dictionary: Parking\n",
      "dataloaders 2022-12-02:13:12:41,903 WARNING  [io.py:63] found annotation label not in label dictionary: Parking\n",
      "dataloaders 2022-12-02:13:12:41,927 WARNING  [io.py:63] found annotation label not in label dictionary: Parking\n",
      "dataloaders 2022-12-02:13:12:41,949 WARNING  [io.py:63] found annotation label not in label dictionary: Parking\n",
      "BufferedDataloader: 100%|██████████| 39/39 [00:00<00:00, 43.12it/s]\n",
      "download_lot: 100%|██████████| 39/39 [00:00<00:00, 614.81it/s]\n",
      "BufferedDataloader:   0%|          | 0/39 [00:00<?, ?it/s]dataloaders 2022-12-02:13:12:42,052 WARNING  [io.py:63] found annotation label not in label dictionary: Parking\n",
      "dataloaders 2022-12-02:13:12:42,071 WARNING  [io.py:63] found annotation label not in label dictionary: Parking\n",
      "dataloaders 2022-12-02:13:12:42,090 WARNING  [io.py:63] found annotation label not in label dictionary: Parking\n",
      "dataloaders 2022-12-02:13:12:42,109 WARNING  [io.py:63] found annotation label not in label dictionary: Parking\n",
      "dataloaders 2022-12-02:13:12:42,130 WARNING  [io.py:63] found annotation label not in label dictionary: Parking\n",
      "BufferedDataloader:  13%|█▎        | 5/39 [00:00<00:00, 48.57it/s]dataloaders 2022-12-02:13:12:42,150 WARNING  [io.py:63] found annotation label not in label dictionary: Parking\n",
      "dataloaders 2022-12-02:13:12:42,175 WARNING  [io.py:63] found annotation label not in label dictionary: Parking\n",
      "dataloaders 2022-12-02:13:12:42,195 WARNING  [io.py:63] found annotation label not in label dictionary: Parking\n",
      "BufferedDataloader:  26%|██▌       | 10/39 [00:00<00:00, 45.98it/s]dataloaders 2022-12-02:13:12:42,268 WARNING  [io.py:63] found annotation label not in label dictionary: Parking\n",
      "dataloaders 2022-12-02:13:12:42,290 WARNING  [io.py:63] found annotation label not in label dictionary: Parking\n",
      "dataloaders 2022-12-02:13:12:42,316 WARNING  [io.py:63] found annotation label not in label dictionary: Parking\n",
      "dataloaders 2022-12-02:13:12:42,337 WARNING  [io.py:63] found annotation label not in label dictionary: Parking\n",
      "dataloaders 2022-12-02:13:12:42,356 WARNING  [io.py:63] found annotation label not in label dictionary: Parking\n",
      "BufferedDataloader:  38%|███▊      | 15/39 [00:00<00:00, 45.19it/s]dataloaders 2022-12-02:13:12:42,400 WARNING  [io.py:63] found annotation label not in label dictionary: Parking\n",
      "dataloaders 2022-12-02:13:12:42,445 WARNING  [io.py:63] found annotation label not in label dictionary: Parking\n",
      "dataloaders 2022-12-02:13:12:42,468 WARNING  [io.py:63] found annotation label not in label dictionary: Parking\n",
      "BufferedDataloader:  51%|█████▏    | 20/39 [00:00<00:00, 45.05it/s]dataloaders 2022-12-02:13:12:42,490 WARNING  [io.py:63] found annotation label not in label dictionary: Parking\n",
      "dataloaders 2022-12-02:13:12:42,511 WARNING  [io.py:63] found annotation label not in label dictionary: Parking\n",
      "BufferedDataloader:  64%|██████▍   | 25/39 [00:00<00:00, 43.93it/s]dataloaders 2022-12-02:13:12:42,609 WARNING  [io.py:63] found annotation label not in label dictionary: Parking\n",
      "dataloaders 2022-12-02:13:12:42,628 WARNING  [io.py:63] found annotation label not in label dictionary: Parking\n",
      "dataloaders 2022-12-02:13:12:42,648 WARNING  [io.py:63] found annotation label not in label dictionary: Parking\n",
      "dataloaders 2022-12-02:13:12:42,671 WARNING  [io.py:63] found annotation label not in label dictionary: Parking\n",
      "dataloaders 2022-12-02:13:12:42,693 WARNING  [io.py:63] found annotation label not in label dictionary: Parking\n",
      "BufferedDataloader:  77%|███████▋  | 30/39 [00:00<00:00, 44.96it/s]dataloaders 2022-12-02:13:12:42,738 WARNING  [io.py:63] found annotation label not in label dictionary: Parking\n",
      "dataloaders 2022-12-02:13:12:42,766 WARNING  [io.py:63] found annotation label not in label dictionary: Parking\n",
      "dataloaders 2022-12-02:13:12:42,814 WARNING  [io.py:63] found annotation label not in label dictionary: Parking\n",
      "BufferedDataloader:  90%|████████▉ | 35/39 [00:00<00:00, 43.72it/s]dataloaders 2022-12-02:13:12:42,841 WARNING  [io.py:63] found annotation label not in label dictionary: Parking\n",
      "dataloaders 2022-12-02:13:12:42,861 WARNING  [io.py:63] found annotation label not in label dictionary: Parking\n",
      "dataloaders 2022-12-02:13:12:42,882 WARNING  [io.py:63] found annotation label not in label dictionary: Parking\n",
      "dataloaders 2022-12-02:13:12:42,901 WARNING  [io.py:63] found annotation label not in label dictionary: Parking\n",
      "BufferedDataloader: 100%|██████████| 39/39 [00:00<00:00, 44.62it/s]\n",
      "download_lot: 100%|██████████| 39/39 [00:00<00:00, 529.51it/s]\n",
      "BufferedDataloader:   0%|          | 0/39 [00:00<?, ?it/s]dataloaders 2022-12-02:13:12:43,011 WARNING  [io.py:63] found annotation label not in label dictionary: Parking\n",
      "dataloaders 2022-12-02:13:12:43,031 WARNING  [io.py:63] found annotation label not in label dictionary: Parking\n",
      "dataloaders 2022-12-02:13:12:43,053 WARNING  [io.py:63] found annotation label not in label dictionary: Parking\n",
      "dataloaders 2022-12-02:13:12:43,072 WARNING  [io.py:63] found annotation label not in label dictionary: Parking\n",
      "dataloaders 2022-12-02:13:12:43,099 WARNING  [io.py:63] found annotation label not in label dictionary: Parking\n",
      "BufferedDataloader:  13%|█▎        | 5/39 [00:00<00:00, 44.44it/s]dataloaders 2022-12-02:13:12:43,121 WARNING  [io.py:63] found annotation label not in label dictionary: Parking\n",
      "dataloaders 2022-12-02:13:12:43,138 WARNING  [io.py:63] found annotation label not in label dictionary: Parking\n",
      "dataloaders 2022-12-02:13:12:43,155 WARNING  [io.py:63] found annotation label not in label dictionary: Parking\n",
      "dataloaders 2022-12-02:13:12:43,220 WARNING  [io.py:63] found annotation label not in label dictionary: Parking\n",
      "BufferedDataloader:  28%|██▊       | 11/39 [00:00<00:00, 47.72it/s]dataloaders 2022-12-02:13:12:43,243 WARNING  [io.py:63] found annotation label not in label dictionary: Parking\n",
      "dataloaders 2022-12-02:13:12:43,262 WARNING  [io.py:63] found annotation label not in label dictionary: Parking\n",
      "dataloaders 2022-12-02:13:12:43,280 WARNING  [io.py:63] found annotation label not in label dictionary: Parking\n",
      "dataloaders 2022-12-02:13:12:43,303 WARNING  [io.py:63] found annotation label not in label dictionary: Parking\n",
      "BufferedDataloader:  41%|████      | 16/39 [00:00<00:00, 47.25it/s]dataloaders 2022-12-02:13:12:43,347 WARNING  [io.py:63] found annotation label not in label dictionary: Parking\n",
      "dataloaders 2022-12-02:13:12:43,392 WARNING  [io.py:63] found annotation label not in label dictionary: Parking\n",
      "dataloaders 2022-12-02:13:12:43,411 WARNING  [io.py:63] found annotation label not in label dictionary: Parking\n",
      "dataloaders 2022-12-02:13:12:43,434 WARNING  [io.py:63] found annotation label not in label dictionary: Parking\n",
      "BufferedDataloader:  54%|█████▍    | 21/39 [00:00<00:00, 47.06it/s]dataloaders 2022-12-02:13:12:43,453 WARNING  [io.py:63] found annotation label not in label dictionary: Parking\n",
      "dataloaders 2022-12-02:13:12:43,550 WARNING  [io.py:63] found annotation label not in label dictionary: Parking\n",
      "BufferedDataloader:  67%|██████▋   | 26/39 [00:00<00:00, 45.56it/s]dataloaders 2022-12-02:13:12:43,570 WARNING  [io.py:63] found annotation label not in label dictionary: Parking\n",
      "dataloaders 2022-12-02:13:12:43,591 WARNING  [io.py:63] found annotation label not in label dictionary: Parking\n",
      "dataloaders 2022-12-02:13:12:43,611 WARNING  [io.py:63] found annotation label not in label dictionary: Parking\n",
      "dataloaders 2022-12-02:13:12:43,632 WARNING  [io.py:63] found annotation label not in label dictionary: Parking\n",
      "BufferedDataloader:  79%|███████▉  | 31/39 [00:00<00:00, 46.38it/s]dataloaders 2022-12-02:13:12:43,680 WARNING  [io.py:63] found annotation label not in label dictionary: Parking\n",
      "dataloaders 2022-12-02:13:12:43,702 WARNING  [io.py:63] found annotation label not in label dictionary: Parking\n",
      "dataloaders 2022-12-02:13:12:43,739 WARNING  [io.py:63] found annotation label not in label dictionary: Parking\n",
      "dataloaders 2022-12-02:13:12:43,756 WARNING  [io.py:63] found annotation label not in label dictionary: Parking\n",
      "BufferedDataloader:  92%|█████████▏| 36/39 [00:00<00:00, 47.20it/s]dataloaders 2022-12-02:13:12:43,776 WARNING  [io.py:63] found annotation label not in label dictionary: Parking\n",
      "dataloaders 2022-12-02:13:12:43,797 WARNING  [io.py:63] found annotation label not in label dictionary: Parking\n",
      "dataloaders 2022-12-02:13:12:43,817 WARNING  [io.py:63] found annotation label not in label dictionary: Parking\n",
      "BufferedDataloader: 100%|██████████| 39/39 [00:00<00:00, 46.97it/s]\n",
      "download_lot: 100%|██████████| 39/39 [00:00<00:00, 436.49it/s]\n",
      "BufferedDataloader: 100%|██████████| 39/39 [00:00<00:00, 44.15it/s]\n",
      "download_lot: 100%|██████████| 39/39 [00:00<00:00, 545.87it/s]\n",
      "BufferedDataloader: 100%|██████████| 39/39 [00:00<00:00, 45.65it/s]\n",
      "download_lot: 100%|██████████| 39/39 [00:00<00:00, 587.01it/s]\n",
      "BufferedDataloader: 100%|██████████| 39/39 [00:00<00:00, 46.01it/s]\n",
      "download_lot: 100%|██████████| 39/39 [00:00<00:00, 669.78it/s]\n",
      "BufferedDataloader: 100%|██████████| 39/39 [00:00<00:00, 48.51it/s]\n",
      "download_lot: 100%|██████████| 39/39 [00:00<00:00, 554.64it/s]\n",
      "BufferedDataloader: 100%|██████████| 39/39 [00:00<00:00, 46.14it/s]\n",
      "download_lot: 100%|██████████| 39/39 [00:00<00:00, 616.01it/s]\n",
      "BufferedDataloader: 100%|██████████| 39/39 [00:00<00:00, 45.55it/s]\n",
      "download_lot: 100%|██████████| 39/39 [00:00<00:00, 720.35it/s]\n",
      "BufferedDataloader: 100%|██████████| 39/39 [00:00<00:00, 49.46it/s]\n",
      "download_lot: 100%|██████████| 39/39 [00:00<00:00, 604.87it/s]\n",
      "BufferedDataloader: 100%|██████████| 39/39 [00:00<00:00, 49.77it/s]\n",
      "download_lot: 100%|██████████| 39/39 [00:00<00:00, 549.79it/s]\n",
      "BufferedDataloader: 100%|██████████| 39/39 [00:00<00:00, 43.61it/s]\n",
      "download_lot: 100%|██████████| 39/39 [00:00<00:00, 493.07it/s]\n",
      "BufferedDataloader: 100%|██████████| 39/39 [00:00<00:00, 41.17it/s]\n",
      "download_lot: 100%|██████████| 39/39 [00:00<00:00, 567.50it/s]\n",
      "BufferedDataloader: 100%|██████████| 39/39 [00:00<00:00, 44.45it/s]\n",
      "download_lot: 100%|██████████| 39/39 [00:00<00:00, 643.05it/s]\n",
      "BufferedDataloader: 100%|██████████| 39/39 [00:00<00:00, 50.58it/s]\n",
      "GPU available: True (cuda), used: True\n",
      "TPU available: False, using: 0 TPU cores\n",
      "IPU available: False, using: 0 IPUs\n",
      "HPU available: False, using: 0 HPUs\n",
      "LOCAL_RANK: 0 - CUDA_VISIBLE_DEVICES: [0,1,2,3]\n",
      "\n",
      "  | Name  | Type | Params\n",
      "-------------------------------\n",
      "0 | model | UNet | 7.8 M \n",
      "-------------------------------\n",
      "7.8 M     Trainable params\n",
      "0         Non-trainable params\n",
      "7.8 M     Total params\n",
      "31.053    Total estimated model params size (MB)\n"
     ]
    },
    {
     "name": "stdout",
     "output_type": "stream",
     "text": [
      "Sanity Checking DataLoader 0:   0%|          | 0/2 [00:00<?, ?it/s]"
     ]
    },
    {
     "name": "stderr",
     "output_type": "stream",
     "text": [
      "/home/mviti/miniconda3/envs/Train_py37_th1_13_cu11/lib/python3.7/site-packages/pytorch_lightning/trainer/connectors/data_connector.py:241: PossibleUserWarning: The dataloader, val_dataloader 0, does not have many workers which may be a bottleneck. Consider increasing the value of the `num_workers` argument` (try 40 which is the number of cpus on this machine) in the `DataLoader` init to improve performance.\n",
      "  category=PossibleUserWarning,\n"
     ]
    },
    {
     "name": "stdout",
     "output_type": "stream",
     "text": [
      "                                                                           "
     ]
    },
    {
     "name": "stderr",
     "output_type": "stream",
     "text": [
      "/home/mviti/miniconda3/envs/Train_py37_th1_13_cu11/lib/python3.7/site-packages/pytorch_lightning/trainer/connectors/data_connector.py:241: PossibleUserWarning: The dataloader, train_dataloader, does not have many workers which may be a bottleneck. Consider increasing the value of the `num_workers` argument` (try 40 which is the number of cpus on this machine) in the `DataLoader` init to improve performance.\n",
      "  category=PossibleUserWarning,\n"
     ]
    },
    {
     "name": "stdout",
     "output_type": "stream",
     "text": [
      "Epoch 0: 100%|██████████| 48/48 [00:07<00:00,  6.51it/s, loss=0.773, v_num=2]"
     ]
    },
    {
     "name": "stderr",
     "output_type": "stream",
     "text": [
      "/home/mviti/miniconda3/envs/Train_py37_th1_13_cu11/lib/python3.7/site-packages/pytorch_lightning/trainer/connectors/logger_connector/result.py:289: UserWarning: The ``compute`` method of metric _ResultMetric was called before the ``update`` method which may lead to errors, as metric states have not yet been updated.\n",
      "  f\"The ``compute`` method of metric {self.__class__.__name__}\"\n",
      "dataloaders 2022-12-02:13:13:06,411 DEBUG    [local.py:265] open file: /raid-dgx3/mviti/gits/SegmentationTrainingPipeline/lightning_logs/version_2/hparams.yaml\n"
     ]
    },
    {
     "name": "stdout",
     "output_type": "stream",
     "text": [
      "Epoch 0: 100%|██████████| 48/48 [00:07<00:00,  6.48it/s, loss=0.773, v_num=2]"
     ]
    },
    {
     "name": "stderr",
     "output_type": "stream",
     "text": [
      "dataloaders 2022-12-02:13:13:06,583 DEBUG    [local.py:265] open file: /raid-dgx3/mviti/gits/SegmentationTrainingPipeline/lightning_logs/version_2/checkpoints/epoch=0-step=39.ckpt\n"
     ]
    },
    {
     "name": "stdout",
     "output_type": "stream",
     "text": [
      "Epoch 1: 100%|██████████| 48/48 [00:06<00:00,  7.06it/s, loss=0.555, v_num=2]"
     ]
    },
    {
     "name": "stderr",
     "output_type": "stream",
     "text": [
      "dataloaders 2022-12-02:13:13:14,404 DEBUG    [local.py:265] open file: /raid-dgx3/mviti/gits/SegmentationTrainingPipeline/lightning_logs/version_2/checkpoints/epoch=1-step=78.ckpt\n"
     ]
    },
    {
     "name": "stdout",
     "output_type": "stream",
     "text": [
      "Epoch 2: 100%|██████████| 48/48 [00:06<00:00,  6.91it/s, loss=0.449, v_num=2]"
     ]
    },
    {
     "name": "stderr",
     "output_type": "stream",
     "text": [
      "dataloaders 2022-12-02:13:13:22,436 DEBUG    [local.py:265] open file: /raid-dgx3/mviti/gits/SegmentationTrainingPipeline/lightning_logs/version_2/checkpoints/epoch=2-step=117.ckpt\n"
     ]
    },
    {
     "name": "stdout",
     "output_type": "stream",
     "text": [
      "Epoch 3: 100%|██████████| 48/48 [00:06<00:00,  6.98it/s, loss=0.423, v_num=2]"
     ]
    },
    {
     "name": "stderr",
     "output_type": "stream",
     "text": [
      "dataloaders 2022-12-02:13:13:30,455 DEBUG    [local.py:265] open file: /raid-dgx3/mviti/gits/SegmentationTrainingPipeline/lightning_logs/version_2/checkpoints/epoch=3-step=156.ckpt\n"
     ]
    },
    {
     "name": "stdout",
     "output_type": "stream",
     "text": [
      "Epoch 4: 100%|██████████| 48/48 [00:06<00:00,  7.22it/s, loss=0.369, v_num=2]"
     ]
    },
    {
     "name": "stderr",
     "output_type": "stream",
     "text": [
      "dataloaders 2022-12-02:13:13:38,165 DEBUG    [local.py:265] open file: /raid-dgx3/mviti/gits/SegmentationTrainingPipeline/lightning_logs/version_2/checkpoints/epoch=4-step=195.ckpt\n"
     ]
    },
    {
     "name": "stdout",
     "output_type": "stream",
     "text": [
      "Epoch 5: 100%|██████████| 48/48 [00:07<00:00,  6.75it/s, loss=0.348, v_num=2]"
     ]
    },
    {
     "name": "stderr",
     "output_type": "stream",
     "text": [
      "dataloaders 2022-12-02:13:13:46,325 DEBUG    [local.py:265] open file: /raid-dgx3/mviti/gits/SegmentationTrainingPipeline/lightning_logs/version_2/checkpoints/epoch=5-step=234.ckpt\n"
     ]
    },
    {
     "name": "stdout",
     "output_type": "stream",
     "text": [
      "Epoch 6: 100%|██████████| 48/48 [00:06<00:00,  7.18it/s, loss=0.318, v_num=2]"
     ]
    },
    {
     "name": "stderr",
     "output_type": "stream",
     "text": [
      "dataloaders 2022-12-02:13:13:54,081 DEBUG    [local.py:265] open file: /raid-dgx3/mviti/gits/SegmentationTrainingPipeline/lightning_logs/version_2/checkpoints/epoch=6-step=273.ckpt\n"
     ]
    },
    {
     "name": "stdout",
     "output_type": "stream",
     "text": [
      "Epoch 7: 100%|██████████| 48/48 [00:06<00:00,  6.94it/s, loss=0.305, v_num=2]"
     ]
    },
    {
     "name": "stderr",
     "output_type": "stream",
     "text": [
      "dataloaders 2022-12-02:13:14:02,065 DEBUG    [local.py:265] open file: /raid-dgx3/mviti/gits/SegmentationTrainingPipeline/lightning_logs/version_2/checkpoints/epoch=7-step=312.ckpt\n"
     ]
    },
    {
     "name": "stdout",
     "output_type": "stream",
     "text": [
      "Epoch 8: 100%|██████████| 48/48 [00:06<00:00,  7.01it/s, loss=0.297, v_num=2]"
     ]
    },
    {
     "name": "stderr",
     "output_type": "stream",
     "text": [
      "dataloaders 2022-12-02:13:14:09,987 DEBUG    [local.py:265] open file: /raid-dgx3/mviti/gits/SegmentationTrainingPipeline/lightning_logs/version_2/checkpoints/epoch=8-step=351.ckpt\n"
     ]
    },
    {
     "name": "stdout",
     "output_type": "stream",
     "text": [
      "Epoch 9: 100%|██████████| 48/48 [00:06<00:00,  6.86it/s, loss=0.292, v_num=2]"
     ]
    },
    {
     "name": "stderr",
     "output_type": "stream",
     "text": [
      "dataloaders 2022-12-02:13:14:18,017 DEBUG    [local.py:265] open file: /raid-dgx3/mviti/gits/SegmentationTrainingPipeline/lightning_logs/version_2/checkpoints/epoch=9-step=390.ckpt\n"
     ]
    },
    {
     "name": "stdout",
     "output_type": "stream",
     "text": [
      "Epoch 10: 100%|██████████| 48/48 [00:06<00:00,  6.94it/s, loss=0.253, v_num=2]"
     ]
    },
    {
     "name": "stderr",
     "output_type": "stream",
     "text": [
      "dataloaders 2022-12-02:13:14:26,019 DEBUG    [local.py:265] open file: /raid-dgx3/mviti/gits/SegmentationTrainingPipeline/lightning_logs/version_2/checkpoints/epoch=10-step=429.ckpt\n"
     ]
    },
    {
     "name": "stdout",
     "output_type": "stream",
     "text": [
      "Epoch 11: 100%|██████████| 48/48 [00:06<00:00,  6.92it/s, loss=0.287, v_num=2]"
     ]
    },
    {
     "name": "stderr",
     "output_type": "stream",
     "text": [
      "dataloaders 2022-12-02:13:14:34,013 DEBUG    [local.py:265] open file: /raid-dgx3/mviti/gits/SegmentationTrainingPipeline/lightning_logs/version_2/checkpoints/epoch=11-step=468.ckpt\n"
     ]
    },
    {
     "name": "stdout",
     "output_type": "stream",
     "text": [
      "Epoch 12: 100%|██████████| 48/48 [00:06<00:00,  6.94it/s, loss=0.267, v_num=2]"
     ]
    },
    {
     "name": "stderr",
     "output_type": "stream",
     "text": [
      "dataloaders 2022-12-02:13:14:41,954 DEBUG    [local.py:265] open file: /raid-dgx3/mviti/gits/SegmentationTrainingPipeline/lightning_logs/version_2/checkpoints/epoch=12-step=507.ckpt\n"
     ]
    },
    {
     "name": "stdout",
     "output_type": "stream",
     "text": [
      "Epoch 13: 100%|██████████| 48/48 [00:06<00:00,  7.13it/s, loss=0.231, v_num=2]"
     ]
    },
    {
     "name": "stderr",
     "output_type": "stream",
     "text": [
      "dataloaders 2022-12-02:13:14:49,749 DEBUG    [local.py:265] open file: /raid-dgx3/mviti/gits/SegmentationTrainingPipeline/lightning_logs/version_2/checkpoints/epoch=13-step=546.ckpt\n"
     ]
    },
    {
     "name": "stdout",
     "output_type": "stream",
     "text": [
      "Epoch 14: 100%|██████████| 48/48 [00:06<00:00,  7.11it/s, loss=0.252, v_num=2]"
     ]
    },
    {
     "name": "stderr",
     "output_type": "stream",
     "text": [
      "dataloaders 2022-12-02:13:14:57,551 DEBUG    [local.py:265] open file: /raid-dgx3/mviti/gits/SegmentationTrainingPipeline/lightning_logs/version_2/checkpoints/epoch=14-step=585.ckpt\n"
     ]
    },
    {
     "name": "stdout",
     "output_type": "stream",
     "text": [
      "Epoch 15: 100%|██████████| 48/48 [00:07<00:00,  6.75it/s, loss=0.239, v_num=2]"
     ]
    },
    {
     "name": "stderr",
     "output_type": "stream",
     "text": [
      "dataloaders 2022-12-02:13:15:05,702 DEBUG    [local.py:265] open file: /raid-dgx3/mviti/gits/SegmentationTrainingPipeline/lightning_logs/version_2/checkpoints/epoch=15-step=624.ckpt\n"
     ]
    },
    {
     "name": "stdout",
     "output_type": "stream",
     "text": [
      "Epoch 16: 100%|██████████| 48/48 [00:06<00:00,  7.09it/s, loss=0.229, v_num=2]"
     ]
    },
    {
     "name": "stderr",
     "output_type": "stream",
     "text": [
      "dataloaders 2022-12-02:13:15:13,520 DEBUG    [local.py:265] open file: /raid-dgx3/mviti/gits/SegmentationTrainingPipeline/lightning_logs/version_2/checkpoints/epoch=16-step=663.ckpt\n"
     ]
    },
    {
     "name": "stdout",
     "output_type": "stream",
     "text": [
      "Epoch 17: 100%|██████████| 48/48 [00:06<00:00,  7.16it/s, loss=0.204, v_num=2]"
     ]
    },
    {
     "name": "stderr",
     "output_type": "stream",
     "text": [
      "dataloaders 2022-12-02:13:15:21,261 DEBUG    [local.py:265] open file: /raid-dgx3/mviti/gits/SegmentationTrainingPipeline/lightning_logs/version_2/checkpoints/epoch=17-step=702.ckpt\n"
     ]
    },
    {
     "name": "stdout",
     "output_type": "stream",
     "text": [
      "Epoch 18: 100%|██████████| 48/48 [00:06<00:00,  7.06it/s, loss=0.225, v_num=2]"
     ]
    },
    {
     "name": "stderr",
     "output_type": "stream",
     "text": [
      "dataloaders 2022-12-02:13:15:29,113 DEBUG    [local.py:265] open file: /raid-dgx3/mviti/gits/SegmentationTrainingPipeline/lightning_logs/version_2/checkpoints/epoch=18-step=741.ckpt\n"
     ]
    },
    {
     "name": "stdout",
     "output_type": "stream",
     "text": [
      "Epoch 19: 100%|██████████| 48/48 [00:06<00:00,  7.10it/s, loss=0.213, v_num=2]"
     ]
    },
    {
     "name": "stderr",
     "output_type": "stream",
     "text": [
      "dataloaders 2022-12-02:13:15:36,913 DEBUG    [local.py:265] open file: /raid-dgx3/mviti/gits/SegmentationTrainingPipeline/lightning_logs/version_2/checkpoints/epoch=19-step=780.ckpt\n"
     ]
    },
    {
     "name": "stdout",
     "output_type": "stream",
     "text": [
      "Epoch 20: 100%|██████████| 48/48 [00:06<00:00,  6.97it/s, loss=0.208, v_num=2]"
     ]
    },
    {
     "name": "stderr",
     "output_type": "stream",
     "text": [
      "dataloaders 2022-12-02:13:15:44,868 DEBUG    [local.py:265] open file: /raid-dgx3/mviti/gits/SegmentationTrainingPipeline/lightning_logs/version_2/checkpoints/epoch=20-step=819.ckpt\n"
     ]
    },
    {
     "name": "stdout",
     "output_type": "stream",
     "text": [
      "Epoch 21: 100%|██████████| 48/48 [00:06<00:00,  6.91it/s, loss=0.194, v_num=2]"
     ]
    },
    {
     "name": "stderr",
     "output_type": "stream",
     "text": [
      "dataloaders 2022-12-02:13:15:52,879 DEBUG    [local.py:265] open file: /raid-dgx3/mviti/gits/SegmentationTrainingPipeline/lightning_logs/version_2/checkpoints/epoch=21-step=858.ckpt\n"
     ]
    },
    {
     "name": "stdout",
     "output_type": "stream",
     "text": [
      "Epoch 22: 100%|██████████| 48/48 [00:06<00:00,  6.87it/s, loss=0.177, v_num=2]"
     ]
    },
    {
     "name": "stderr",
     "output_type": "stream",
     "text": [
      "dataloaders 2022-12-02:13:16:00,936 DEBUG    [local.py:265] open file: /raid-dgx3/mviti/gits/SegmentationTrainingPipeline/lightning_logs/version_2/checkpoints/epoch=22-step=897.ckpt\n"
     ]
    },
    {
     "name": "stdout",
     "output_type": "stream",
     "text": [
      "Epoch 23: 100%|██████████| 48/48 [00:06<00:00,  7.01it/s, loss=0.181, v_num=2]"
     ]
    },
    {
     "name": "stderr",
     "output_type": "stream",
     "text": [
      "dataloaders 2022-12-02:13:16:08,848 DEBUG    [local.py:265] open file: /raid-dgx3/mviti/gits/SegmentationTrainingPipeline/lightning_logs/version_2/checkpoints/epoch=23-step=936.ckpt\n"
     ]
    },
    {
     "name": "stdout",
     "output_type": "stream",
     "text": [
      "Epoch 24: 100%|██████████| 48/48 [00:06<00:00,  6.88it/s, loss=0.167, v_num=2]"
     ]
    },
    {
     "name": "stderr",
     "output_type": "stream",
     "text": [
      "dataloaders 2022-12-02:13:16:16,879 DEBUG    [local.py:265] open file: /raid-dgx3/mviti/gits/SegmentationTrainingPipeline/lightning_logs/version_2/checkpoints/epoch=24-step=975.ckpt\n"
     ]
    },
    {
     "name": "stdout",
     "output_type": "stream",
     "text": [
      "Epoch 25: 100%|██████████| 48/48 [00:06<00:00,  7.10it/s, loss=0.19, v_num=2] "
     ]
    },
    {
     "name": "stderr",
     "output_type": "stream",
     "text": [
      "dataloaders 2022-12-02:13:16:24,677 DEBUG    [local.py:265] open file: /raid-dgx3/mviti/gits/SegmentationTrainingPipeline/lightning_logs/version_2/checkpoints/epoch=25-step=1014.ckpt\n"
     ]
    },
    {
     "name": "stdout",
     "output_type": "stream",
     "text": [
      "Epoch 26: 100%|██████████| 48/48 [00:06<00:00,  6.87it/s, loss=0.178, v_num=2]"
     ]
    },
    {
     "name": "stderr",
     "output_type": "stream",
     "text": [
      "dataloaders 2022-12-02:13:16:32,752 DEBUG    [local.py:265] open file: /raid-dgx3/mviti/gits/SegmentationTrainingPipeline/lightning_logs/version_2/checkpoints/epoch=26-step=1053.ckpt\n"
     ]
    },
    {
     "name": "stdout",
     "output_type": "stream",
     "text": [
      "Epoch 27: 100%|██████████| 48/48 [00:06<00:00,  7.19it/s, loss=0.146, v_num=2]"
     ]
    },
    {
     "name": "stderr",
     "output_type": "stream",
     "text": [
      "dataloaders 2022-12-02:13:16:40,515 DEBUG    [local.py:265] open file: /raid-dgx3/mviti/gits/SegmentationTrainingPipeline/lightning_logs/version_2/checkpoints/epoch=27-step=1092.ckpt\n"
     ]
    },
    {
     "name": "stdout",
     "output_type": "stream",
     "text": [
      "Epoch 28: 100%|██████████| 48/48 [00:06<00:00,  7.15it/s, loss=0.158, v_num=2]"
     ]
    },
    {
     "name": "stderr",
     "output_type": "stream",
     "text": [
      "dataloaders 2022-12-02:13:16:48,318 DEBUG    [local.py:265] open file: /raid-dgx3/mviti/gits/SegmentationTrainingPipeline/lightning_logs/version_2/checkpoints/epoch=28-step=1131.ckpt\n"
     ]
    },
    {
     "name": "stdout",
     "output_type": "stream",
     "text": [
      "Epoch 29: 100%|██████████| 48/48 [00:07<00:00,  6.85it/s, loss=0.144, v_num=2]"
     ]
    },
    {
     "name": "stderr",
     "output_type": "stream",
     "text": [
      "dataloaders 2022-12-02:13:16:56,413 DEBUG    [local.py:265] open file: /raid-dgx3/mviti/gits/SegmentationTrainingPipeline/lightning_logs/version_2/checkpoints/epoch=29-step=1170.ckpt\n"
     ]
    },
    {
     "name": "stdout",
     "output_type": "stream",
     "text": [
      "Epoch 30: 100%|██████████| 48/48 [00:07<00:00,  6.71it/s, loss=0.143, v_num=2]"
     ]
    },
    {
     "name": "stderr",
     "output_type": "stream",
     "text": [
      "dataloaders 2022-12-02:13:17:04,625 DEBUG    [local.py:265] open file: /raid-dgx3/mviti/gits/SegmentationTrainingPipeline/lightning_logs/version_2/checkpoints/epoch=30-step=1209.ckpt\n"
     ]
    },
    {
     "name": "stdout",
     "output_type": "stream",
     "text": [
      "Epoch 31: 100%|██████████| 48/48 [00:06<00:00,  6.95it/s, loss=0.168, v_num=2]"
     ]
    },
    {
     "name": "stderr",
     "output_type": "stream",
     "text": [
      "dataloaders 2022-12-02:13:17:12,585 DEBUG    [local.py:265] open file: /raid-dgx3/mviti/gits/SegmentationTrainingPipeline/lightning_logs/version_2/checkpoints/epoch=31-step=1248.ckpt\n"
     ]
    },
    {
     "name": "stdout",
     "output_type": "stream",
     "text": [
      "Epoch 32: 100%|██████████| 48/48 [00:06<00:00,  7.02it/s, loss=0.146, v_num=2]"
     ]
    },
    {
     "name": "stderr",
     "output_type": "stream",
     "text": [
      "dataloaders 2022-12-02:13:17:20,480 DEBUG    [local.py:265] open file: /raid-dgx3/mviti/gits/SegmentationTrainingPipeline/lightning_logs/version_2/checkpoints/epoch=32-step=1287.ckpt\n"
     ]
    },
    {
     "name": "stdout",
     "output_type": "stream",
     "text": [
      "Epoch 33: 100%|██████████| 48/48 [00:06<00:00,  7.06it/s, loss=0.138, v_num=2]"
     ]
    },
    {
     "name": "stderr",
     "output_type": "stream",
     "text": [
      "dataloaders 2022-12-02:13:17:28,334 DEBUG    [local.py:265] open file: /raid-dgx3/mviti/gits/SegmentationTrainingPipeline/lightning_logs/version_2/checkpoints/epoch=33-step=1326.ckpt\n"
     ]
    },
    {
     "name": "stdout",
     "output_type": "stream",
     "text": [
      "Epoch 34: 100%|██████████| 48/48 [00:07<00:00,  6.84it/s, loss=0.146, v_num=2]"
     ]
    },
    {
     "name": "stderr",
     "output_type": "stream",
     "text": [
      "dataloaders 2022-12-02:13:17:36,416 DEBUG    [local.py:265] open file: /raid-dgx3/mviti/gits/SegmentationTrainingPipeline/lightning_logs/version_2/checkpoints/epoch=34-step=1365.ckpt\n"
     ]
    },
    {
     "name": "stdout",
     "output_type": "stream",
     "text": [
      "Epoch 35: 100%|██████████| 48/48 [00:06<00:00,  7.05it/s, loss=0.159, v_num=2]"
     ]
    },
    {
     "name": "stderr",
     "output_type": "stream",
     "text": [
      "dataloaders 2022-12-02:13:17:44,292 DEBUG    [local.py:265] open file: /raid-dgx3/mviti/gits/SegmentationTrainingPipeline/lightning_logs/version_2/checkpoints/epoch=35-step=1404.ckpt\n"
     ]
    },
    {
     "name": "stdout",
     "output_type": "stream",
     "text": [
      "Epoch 36: 100%|██████████| 48/48 [00:06<00:00,  7.03it/s, loss=0.149, v_num=2]"
     ]
    },
    {
     "name": "stderr",
     "output_type": "stream",
     "text": [
      "dataloaders 2022-12-02:13:17:52,206 DEBUG    [local.py:265] open file: /raid-dgx3/mviti/gits/SegmentationTrainingPipeline/lightning_logs/version_2/checkpoints/epoch=36-step=1443.ckpt\n"
     ]
    },
    {
     "name": "stdout",
     "output_type": "stream",
     "text": [
      "Epoch 37: 100%|██████████| 48/48 [00:06<00:00,  7.06it/s, loss=0.143, v_num=2]"
     ]
    },
    {
     "name": "stderr",
     "output_type": "stream",
     "text": [
      "dataloaders 2022-12-02:13:18:00,081 DEBUG    [local.py:265] open file: /raid-dgx3/mviti/gits/SegmentationTrainingPipeline/lightning_logs/version_2/checkpoints/epoch=37-step=1482.ckpt\n"
     ]
    },
    {
     "name": "stdout",
     "output_type": "stream",
     "text": [
      "Epoch 38: 100%|██████████| 48/48 [00:06<00:00,  6.88it/s, loss=0.16, v_num=2] "
     ]
    },
    {
     "name": "stderr",
     "output_type": "stream",
     "text": [
      "dataloaders 2022-12-02:13:18:08,149 DEBUG    [local.py:265] open file: /raid-dgx3/mviti/gits/SegmentationTrainingPipeline/lightning_logs/version_2/checkpoints/epoch=38-step=1521.ckpt\n"
     ]
    },
    {
     "name": "stdout",
     "output_type": "stream",
     "text": [
      "Epoch 39: 100%|██████████| 48/48 [00:06<00:00,  7.05it/s, loss=0.132, v_num=2]"
     ]
    },
    {
     "name": "stderr",
     "output_type": "stream",
     "text": [
      "dataloaders 2022-12-02:13:18:16,038 DEBUG    [local.py:265] open file: /raid-dgx3/mviti/gits/SegmentationTrainingPipeline/lightning_logs/version_2/checkpoints/epoch=39-step=1560.ckpt\n"
     ]
    },
    {
     "name": "stdout",
     "output_type": "stream",
     "text": [
      "Epoch 40: 100%|██████████| 48/48 [00:06<00:00,  6.99it/s, loss=0.131, v_num=2]"
     ]
    },
    {
     "name": "stderr",
     "output_type": "stream",
     "text": [
      "dataloaders 2022-12-02:13:18:23,977 DEBUG    [local.py:265] open file: /raid-dgx3/mviti/gits/SegmentationTrainingPipeline/lightning_logs/version_2/checkpoints/epoch=40-step=1599.ckpt\n"
     ]
    },
    {
     "name": "stdout",
     "output_type": "stream",
     "text": [
      "Epoch 41: 100%|██████████| 48/48 [00:06<00:00,  6.93it/s, loss=0.137, v_num=2]"
     ]
    },
    {
     "name": "stderr",
     "output_type": "stream",
     "text": [
      "dataloaders 2022-12-02:13:18:31,976 DEBUG    [local.py:265] open file: /raid-dgx3/mviti/gits/SegmentationTrainingPipeline/lightning_logs/version_2/checkpoints/epoch=41-step=1638.ckpt\n"
     ]
    },
    {
     "name": "stdout",
     "output_type": "stream",
     "text": [
      "Epoch 42: 100%|██████████| 48/48 [00:06<00:00,  7.41it/s, loss=0.117, v_num=2]"
     ]
    },
    {
     "name": "stderr",
     "output_type": "stream",
     "text": [
      "dataloaders 2022-12-02:13:18:39,505 DEBUG    [local.py:265] open file: /raid-dgx3/mviti/gits/SegmentationTrainingPipeline/lightning_logs/version_2/checkpoints/epoch=42-step=1677.ckpt\n"
     ]
    },
    {
     "name": "stdout",
     "output_type": "stream",
     "text": [
      "Epoch 43: 100%|██████████| 48/48 [00:06<00:00,  7.00it/s, loss=0.141, v_num=2]"
     ]
    },
    {
     "name": "stderr",
     "output_type": "stream",
     "text": [
      "dataloaders 2022-12-02:13:18:47,445 DEBUG    [local.py:265] open file: /raid-dgx3/mviti/gits/SegmentationTrainingPipeline/lightning_logs/version_2/checkpoints/epoch=43-step=1716.ckpt\n"
     ]
    },
    {
     "name": "stdout",
     "output_type": "stream",
     "text": [
      "Epoch 44: 100%|██████████| 48/48 [00:07<00:00,  6.79it/s, loss=0.154, v_num=2]"
     ]
    },
    {
     "name": "stderr",
     "output_type": "stream",
     "text": [
      "dataloaders 2022-12-02:13:18:55,591 DEBUG    [local.py:265] open file: /raid-dgx3/mviti/gits/SegmentationTrainingPipeline/lightning_logs/version_2/checkpoints/epoch=44-step=1755.ckpt\n"
     ]
    },
    {
     "name": "stdout",
     "output_type": "stream",
     "text": [
      "Epoch 45: 100%|██████████| 48/48 [00:06<00:00,  7.06it/s, loss=0.137, v_num=2]"
     ]
    },
    {
     "name": "stderr",
     "output_type": "stream",
     "text": [
      "dataloaders 2022-12-02:13:19:03,447 DEBUG    [local.py:265] open file: /raid-dgx3/mviti/gits/SegmentationTrainingPipeline/lightning_logs/version_2/checkpoints/epoch=45-step=1794.ckpt\n"
     ]
    },
    {
     "name": "stdout",
     "output_type": "stream",
     "text": [
      "Epoch 46: 100%|██████████| 48/48 [00:07<00:00,  6.61it/s, loss=0.127, v_num=2]"
     ]
    },
    {
     "name": "stderr",
     "output_type": "stream",
     "text": [
      "dataloaders 2022-12-02:13:19:11,763 DEBUG    [local.py:265] open file: /raid-dgx3/mviti/gits/SegmentationTrainingPipeline/lightning_logs/version_2/checkpoints/epoch=46-step=1833.ckpt\n"
     ]
    },
    {
     "name": "stdout",
     "output_type": "stream",
     "text": [
      "Epoch 47: 100%|██████████| 48/48 [00:07<00:00,  6.10it/s, loss=0.134, v_num=2]"
     ]
    },
    {
     "name": "stderr",
     "output_type": "stream",
     "text": [
      "dataloaders 2022-12-02:13:19:20,690 DEBUG    [local.py:265] open file: /raid-dgx3/mviti/gits/SegmentationTrainingPipeline/lightning_logs/version_2/checkpoints/epoch=47-step=1872.ckpt\n"
     ]
    },
    {
     "name": "stdout",
     "output_type": "stream",
     "text": [
      "Epoch 48: 100%|██████████| 48/48 [00:07<00:00,  6.29it/s, loss=0.124, v_num=2]"
     ]
    },
    {
     "name": "stderr",
     "output_type": "stream",
     "text": [
      "dataloaders 2022-12-02:13:19:29,361 DEBUG    [local.py:265] open file: /raid-dgx3/mviti/gits/SegmentationTrainingPipeline/lightning_logs/version_2/checkpoints/epoch=48-step=1911.ckpt\n"
     ]
    },
    {
     "name": "stdout",
     "output_type": "stream",
     "text": [
      "Epoch 49: 100%|██████████| 48/48 [00:07<00:00,  6.23it/s, loss=0.116, v_num=2]"
     ]
    },
    {
     "name": "stderr",
     "output_type": "stream",
     "text": [
      "dataloaders 2022-12-02:13:19:38,171 DEBUG    [local.py:265] open file: /raid-dgx3/mviti/gits/SegmentationTrainingPipeline/lightning_logs/version_2/checkpoints/epoch=49-step=1950.ckpt\n"
     ]
    },
    {
     "name": "stdout",
     "output_type": "stream",
     "text": [
      "Epoch 50: 100%|██████████| 48/48 [00:07<00:00,  6.29it/s, loss=0.122, v_num=2]"
     ]
    },
    {
     "name": "stderr",
     "output_type": "stream",
     "text": [
      "dataloaders 2022-12-02:13:19:46,908 DEBUG    [local.py:265] open file: /raid-dgx3/mviti/gits/SegmentationTrainingPipeline/lightning_logs/version_2/checkpoints/epoch=50-step=1989.ckpt\n"
     ]
    },
    {
     "name": "stdout",
     "output_type": "stream",
     "text": [
      "Epoch 51: 100%|██████████| 48/48 [00:07<00:00,  6.28it/s, loss=0.132, v_num=2]"
     ]
    },
    {
     "name": "stderr",
     "output_type": "stream",
     "text": [
      "dataloaders 2022-12-02:13:19:55,631 DEBUG    [local.py:265] open file: /raid-dgx3/mviti/gits/SegmentationTrainingPipeline/lightning_logs/version_2/checkpoints/epoch=51-step=2028.ckpt\n"
     ]
    },
    {
     "name": "stdout",
     "output_type": "stream",
     "text": [
      "Epoch 52: 100%|██████████| 48/48 [00:07<00:00,  6.08it/s, loss=0.11, v_num=2] "
     ]
    },
    {
     "name": "stderr",
     "output_type": "stream",
     "text": [
      "dataloaders 2022-12-02:13:20:04,621 DEBUG    [local.py:265] open file: /raid-dgx3/mviti/gits/SegmentationTrainingPipeline/lightning_logs/version_2/checkpoints/epoch=52-step=2067.ckpt\n"
     ]
    },
    {
     "name": "stdout",
     "output_type": "stream",
     "text": [
      "Epoch 53: 100%|██████████| 48/48 [00:08<00:00,  5.55it/s, loss=0.153, v_num=2]"
     ]
    },
    {
     "name": "stderr",
     "output_type": "stream",
     "text": [
      "dataloaders 2022-12-02:13:20:14,387 DEBUG    [local.py:265] open file: /raid-dgx3/mviti/gits/SegmentationTrainingPipeline/lightning_logs/version_2/checkpoints/epoch=53-step=2106.ckpt\n"
     ]
    },
    {
     "name": "stdout",
     "output_type": "stream",
     "text": [
      "Epoch 54: 100%|██████████| 48/48 [00:08<00:00,  5.79it/s, loss=0.145, v_num=2]"
     ]
    },
    {
     "name": "stderr",
     "output_type": "stream",
     "text": [
      "dataloaders 2022-12-02:13:20:23,785 DEBUG    [local.py:265] open file: /raid-dgx3/mviti/gits/SegmentationTrainingPipeline/lightning_logs/version_2/checkpoints/epoch=54-step=2145.ckpt\n"
     ]
    },
    {
     "name": "stdout",
     "output_type": "stream",
     "text": [
      "Epoch 55: 100%|██████████| 48/48 [00:08<00:00,  5.99it/s, loss=0.138, v_num=2]"
     ]
    },
    {
     "name": "stderr",
     "output_type": "stream",
     "text": [
      "dataloaders 2022-12-02:13:20:32,893 DEBUG    [local.py:265] open file: /raid-dgx3/mviti/gits/SegmentationTrainingPipeline/lightning_logs/version_2/checkpoints/epoch=55-step=2184.ckpt\n"
     ]
    },
    {
     "name": "stdout",
     "output_type": "stream",
     "text": [
      "Epoch 56: 100%|██████████| 48/48 [00:07<00:00,  6.41it/s, loss=0.0982, v_num=2]"
     ]
    },
    {
     "name": "stderr",
     "output_type": "stream",
     "text": [
      "dataloaders 2022-12-02:13:20:41,471 DEBUG    [local.py:265] open file: /raid-dgx3/mviti/gits/SegmentationTrainingPipeline/lightning_logs/version_2/checkpoints/epoch=56-step=2223.ckpt\n"
     ]
    },
    {
     "name": "stdout",
     "output_type": "stream",
     "text": [
      "Epoch 57: 100%|██████████| 48/48 [00:07<00:00,  6.38it/s, loss=0.108, v_num=2] "
     ]
    },
    {
     "name": "stderr",
     "output_type": "stream",
     "text": [
      "dataloaders 2022-12-02:13:20:50,087 DEBUG    [local.py:265] open file: /raid-dgx3/mviti/gits/SegmentationTrainingPipeline/lightning_logs/version_2/checkpoints/epoch=57-step=2262.ckpt\n"
     ]
    },
    {
     "name": "stdout",
     "output_type": "stream",
     "text": [
      "Epoch 58: 100%|██████████| 48/48 [00:07<00:00,  6.16it/s, loss=0.122, v_num=2]"
     ]
    },
    {
     "name": "stderr",
     "output_type": "stream",
     "text": [
      "dataloaders 2022-12-02:13:20:58,981 DEBUG    [local.py:265] open file: /raid-dgx3/mviti/gits/SegmentationTrainingPipeline/lightning_logs/version_2/checkpoints/epoch=58-step=2301.ckpt\n"
     ]
    },
    {
     "name": "stdout",
     "output_type": "stream",
     "text": [
      "Epoch 59: 100%|██████████| 48/48 [00:07<00:00,  6.02it/s, loss=0.131, v_num=2]"
     ]
    },
    {
     "name": "stderr",
     "output_type": "stream",
     "text": [
      "dataloaders 2022-12-02:13:21:08,007 DEBUG    [local.py:265] open file: /raid-dgx3/mviti/gits/SegmentationTrainingPipeline/lightning_logs/version_2/checkpoints/epoch=59-step=2340.ckpt\n"
     ]
    },
    {
     "name": "stdout",
     "output_type": "stream",
     "text": [
      "Epoch 60: 100%|██████████| 48/48 [00:08<00:00,  5.81it/s, loss=0.117, v_num=2]"
     ]
    },
    {
     "name": "stderr",
     "output_type": "stream",
     "text": [
      "dataloaders 2022-12-02:13:21:17,353 DEBUG    [local.py:265] open file: /raid-dgx3/mviti/gits/SegmentationTrainingPipeline/lightning_logs/version_2/checkpoints/epoch=60-step=2379.ckpt\n"
     ]
    },
    {
     "name": "stdout",
     "output_type": "stream",
     "text": [
      "Epoch 61: 100%|██████████| 48/48 [00:08<00:00,  5.83it/s, loss=0.114, v_num=2]"
     ]
    },
    {
     "name": "stderr",
     "output_type": "stream",
     "text": [
      "dataloaders 2022-12-02:13:21:26,744 DEBUG    [local.py:265] open file: /raid-dgx3/mviti/gits/SegmentationTrainingPipeline/lightning_logs/version_2/checkpoints/epoch=61-step=2418.ckpt\n"
     ]
    },
    {
     "name": "stdout",
     "output_type": "stream",
     "text": [
      "Epoch 62: 100%|██████████| 48/48 [00:07<00:00,  6.08it/s, loss=0.112, v_num=2] "
     ]
    },
    {
     "name": "stderr",
     "output_type": "stream",
     "text": [
      "dataloaders 2022-12-02:13:21:35,741 DEBUG    [local.py:265] open file: /raid-dgx3/mviti/gits/SegmentationTrainingPipeline/lightning_logs/version_2/checkpoints/epoch=62-step=2457.ckpt\n"
     ]
    },
    {
     "name": "stdout",
     "output_type": "stream",
     "text": [
      "Epoch 63: 100%|██████████| 48/48 [00:10<00:00,  4.71it/s, loss=0.129, v_num=2] "
     ]
    },
    {
     "name": "stderr",
     "output_type": "stream",
     "text": [
      "dataloaders 2022-12-02:13:21:47,049 DEBUG    [local.py:265] open file: /raid-dgx3/mviti/gits/SegmentationTrainingPipeline/lightning_logs/version_2/checkpoints/epoch=63-step=2496.ckpt\n"
     ]
    },
    {
     "name": "stdout",
     "output_type": "stream",
     "text": [
      "Epoch 64: 100%|██████████| 48/48 [00:09<00:00,  4.82it/s, loss=0.11, v_num=2] "
     ]
    },
    {
     "name": "stderr",
     "output_type": "stream",
     "text": [
      "dataloaders 2022-12-02:13:21:58,107 DEBUG    [local.py:265] open file: /raid-dgx3/mviti/gits/SegmentationTrainingPipeline/lightning_logs/version_2/checkpoints/epoch=64-step=2535.ckpt\n"
     ]
    },
    {
     "name": "stdout",
     "output_type": "stream",
     "text": [
      "Epoch 65: 100%|██████████| 48/48 [00:08<00:00,  5.37it/s, loss=0.105, v_num=2] "
     ]
    },
    {
     "name": "stderr",
     "output_type": "stream",
     "text": [
      "dataloaders 2022-12-02:13:22:08,122 DEBUG    [local.py:265] open file: /raid-dgx3/mviti/gits/SegmentationTrainingPipeline/lightning_logs/version_2/checkpoints/epoch=65-step=2574.ckpt\n"
     ]
    },
    {
     "name": "stdout",
     "output_type": "stream",
     "text": [
      "Epoch 66: 100%|██████████| 48/48 [00:08<00:00,  5.38it/s, loss=0.103, v_num=2] "
     ]
    },
    {
     "name": "stderr",
     "output_type": "stream",
     "text": [
      "dataloaders 2022-12-02:13:22:18,121 DEBUG    [local.py:265] open file: /raid-dgx3/mviti/gits/SegmentationTrainingPipeline/lightning_logs/version_2/checkpoints/epoch=66-step=2613.ckpt\n"
     ]
    },
    {
     "name": "stdout",
     "output_type": "stream",
     "text": [
      "Epoch 67: 100%|██████████| 48/48 [00:09<00:00,  5.04it/s, loss=0.122, v_num=2] "
     ]
    },
    {
     "name": "stderr",
     "output_type": "stream",
     "text": [
      "dataloaders 2022-12-02:13:22:28,748 DEBUG    [local.py:265] open file: /raid-dgx3/mviti/gits/SegmentationTrainingPipeline/lightning_logs/version_2/checkpoints/epoch=67-step=2652.ckpt\n"
     ]
    },
    {
     "name": "stdout",
     "output_type": "stream",
     "text": [
      "Epoch 68: 100%|██████████| 48/48 [00:09<00:00,  5.10it/s, loss=0.115, v_num=2]"
     ]
    },
    {
     "name": "stderr",
     "output_type": "stream",
     "text": [
      "dataloaders 2022-12-02:13:22:39,269 DEBUG    [local.py:265] open file: /raid-dgx3/mviti/gits/SegmentationTrainingPipeline/lightning_logs/version_2/checkpoints/epoch=68-step=2691.ckpt\n"
     ]
    },
    {
     "name": "stdout",
     "output_type": "stream",
     "text": [
      "Epoch 69: 100%|██████████| 48/48 [00:09<00:00,  5.15it/s, loss=0.109, v_num=2]"
     ]
    },
    {
     "name": "stderr",
     "output_type": "stream",
     "text": [
      "dataloaders 2022-12-02:13:22:49,681 DEBUG    [local.py:265] open file: /raid-dgx3/mviti/gits/SegmentationTrainingPipeline/lightning_logs/version_2/checkpoints/epoch=69-step=2730.ckpt\n"
     ]
    },
    {
     "name": "stdout",
     "output_type": "stream",
     "text": [
      "Epoch 70: 100%|██████████| 48/48 [00:10<00:00,  4.61it/s, loss=0.112, v_num=2]"
     ]
    },
    {
     "name": "stderr",
     "output_type": "stream",
     "text": [
      "dataloaders 2022-12-02:13:23:01,210 DEBUG    [local.py:265] open file: /raid-dgx3/mviti/gits/SegmentationTrainingPipeline/lightning_logs/version_2/checkpoints/epoch=70-step=2769.ckpt\n"
     ]
    },
    {
     "name": "stdout",
     "output_type": "stream",
     "text": [
      "Epoch 71: 100%|██████████| 48/48 [00:15<00:00,  3.17it/s, loss=0.101, v_num=2] "
     ]
    },
    {
     "name": "stderr",
     "output_type": "stream",
     "text": [
      "dataloaders 2022-12-02:13:23:17,443 DEBUG    [local.py:265] open file: /raid-dgx3/mviti/gits/SegmentationTrainingPipeline/lightning_logs/version_2/checkpoints/epoch=71-step=2808.ckpt\n"
     ]
    },
    {
     "name": "stdout",
     "output_type": "stream",
     "text": [
      "Epoch 72: 100%|██████████| 48/48 [00:33<00:00,  1.43it/s, loss=0.102, v_num=2] "
     ]
    },
    {
     "name": "stderr",
     "output_type": "stream",
     "text": [
      "dataloaders 2022-12-02:13:23:52,214 DEBUG    [local.py:265] open file: /raid-dgx3/mviti/gits/SegmentationTrainingPipeline/lightning_logs/version_2/checkpoints/epoch=72-step=2847.ckpt\n"
     ]
    },
    {
     "name": "stdout",
     "output_type": "stream",
     "text": [
      "Epoch 73: 100%|██████████| 48/48 [00:22<00:00,  2.16it/s, loss=0.109, v_num=2] "
     ]
    },
    {
     "name": "stderr",
     "output_type": "stream",
     "text": [
      "dataloaders 2022-12-02:13:24:15,530 DEBUG    [local.py:265] open file: /raid-dgx3/mviti/gits/SegmentationTrainingPipeline/lightning_logs/version_2/checkpoints/epoch=73-step=2886.ckpt\n"
     ]
    },
    {
     "name": "stdout",
     "output_type": "stream",
     "text": [
      "Epoch 74: 100%|██████████| 48/48 [00:16<00:00,  2.98it/s, loss=0.0972, v_num=2]"
     ]
    },
    {
     "name": "stderr",
     "output_type": "stream",
     "text": [
      "dataloaders 2022-12-02:13:24:32,750 DEBUG    [local.py:265] open file: /raid-dgx3/mviti/gits/SegmentationTrainingPipeline/lightning_logs/version_2/checkpoints/epoch=74-step=2925.ckpt\n"
     ]
    },
    {
     "name": "stdout",
     "output_type": "stream",
     "text": [
      "Epoch 75: 100%|██████████| 48/48 [00:15<00:00,  3.07it/s, loss=0.114, v_num=2] "
     ]
    },
    {
     "name": "stderr",
     "output_type": "stream",
     "text": [
      "dataloaders 2022-12-02:13:24:49,523 DEBUG    [local.py:265] open file: /raid-dgx3/mviti/gits/SegmentationTrainingPipeline/lightning_logs/version_2/checkpoints/epoch=75-step=2964.ckpt\n"
     ]
    },
    {
     "name": "stdout",
     "output_type": "stream",
     "text": [
      "Epoch 76: 100%|██████████| 48/48 [00:15<00:00,  3.11it/s, loss=0.0947, v_num=2]"
     ]
    },
    {
     "name": "stderr",
     "output_type": "stream",
     "text": [
      "dataloaders 2022-12-02:13:25:06,032 DEBUG    [local.py:265] open file: /raid-dgx3/mviti/gits/SegmentationTrainingPipeline/lightning_logs/version_2/checkpoints/epoch=76-step=3003.ckpt\n"
     ]
    },
    {
     "name": "stdout",
     "output_type": "stream",
     "text": [
      "Epoch 77: 100%|██████████| 48/48 [00:33<00:00,  1.45it/s, loss=0.0986, v_num=2]"
     ]
    },
    {
     "name": "stderr",
     "output_type": "stream",
     "text": [
      "dataloaders 2022-12-02:13:25:40,141 DEBUG    [local.py:265] open file: /raid-dgx3/mviti/gits/SegmentationTrainingPipeline/lightning_logs/version_2/checkpoints/epoch=77-step=3042.ckpt\n"
     ]
    },
    {
     "name": "stdout",
     "output_type": "stream",
     "text": [
      "Epoch 78: 100%|██████████| 48/48 [00:06<00:00,  7.20it/s, loss=0.091, v_num=2] "
     ]
    },
    {
     "name": "stderr",
     "output_type": "stream",
     "text": [
      "dataloaders 2022-12-02:13:25:47,848 DEBUG    [local.py:265] open file: /raid-dgx3/mviti/gits/SegmentationTrainingPipeline/lightning_logs/version_2/checkpoints/epoch=78-step=3081.ckpt\n"
     ]
    },
    {
     "name": "stdout",
     "output_type": "stream",
     "text": [
      "Epoch 79: 100%|██████████| 48/48 [00:07<00:00,  6.63it/s, loss=0.1, v_num=2]   "
     ]
    },
    {
     "name": "stderr",
     "output_type": "stream",
     "text": [
      "dataloaders 2022-12-02:13:25:56,208 DEBUG    [local.py:265] open file: /raid-dgx3/mviti/gits/SegmentationTrainingPipeline/lightning_logs/version_2/checkpoints/epoch=79-step=3120.ckpt\n"
     ]
    },
    {
     "name": "stdout",
     "output_type": "stream",
     "text": [
      "Epoch 80: 100%|██████████| 48/48 [00:07<00:00,  6.82it/s, loss=0.118, v_num=2]"
     ]
    },
    {
     "name": "stderr",
     "output_type": "stream",
     "text": [
      "dataloaders 2022-12-02:13:26:04,315 DEBUG    [local.py:265] open file: /raid-dgx3/mviti/gits/SegmentationTrainingPipeline/lightning_logs/version_2/checkpoints/epoch=80-step=3159.ckpt\n"
     ]
    },
    {
     "name": "stdout",
     "output_type": "stream",
     "text": [
      "Epoch 81: 100%|██████████| 48/48 [00:06<00:00,  6.92it/s, loss=0.113, v_num=2]"
     ]
    },
    {
     "name": "stderr",
     "output_type": "stream",
     "text": [
      "dataloaders 2022-12-02:13:26:12,306 DEBUG    [local.py:265] open file: /raid-dgx3/mviti/gits/SegmentationTrainingPipeline/lightning_logs/version_2/checkpoints/epoch=81-step=3198.ckpt\n"
     ]
    },
    {
     "name": "stdout",
     "output_type": "stream",
     "text": [
      "Epoch 82: 100%|██████████| 48/48 [00:06<00:00,  6.87it/s, loss=0.1, v_num=2]   "
     ]
    },
    {
     "name": "stderr",
     "output_type": "stream",
     "text": [
      "dataloaders 2022-12-02:13:26:20,327 DEBUG    [local.py:265] open file: /raid-dgx3/mviti/gits/SegmentationTrainingPipeline/lightning_logs/version_2/checkpoints/epoch=82-step=3237.ckpt\n"
     ]
    },
    {
     "name": "stdout",
     "output_type": "stream",
     "text": [
      "Epoch 83: 100%|██████████| 48/48 [00:06<00:00,  7.06it/s, loss=0.103, v_num=2]"
     ]
    },
    {
     "name": "stderr",
     "output_type": "stream",
     "text": [
      "dataloaders 2022-12-02:13:26:28,223 DEBUG    [local.py:265] open file: /raid-dgx3/mviti/gits/SegmentationTrainingPipeline/lightning_logs/version_2/checkpoints/epoch=83-step=3276.ckpt\n"
     ]
    },
    {
     "name": "stdout",
     "output_type": "stream",
     "text": [
      "Epoch 84: 100%|██████████| 48/48 [00:06<00:00,  6.93it/s, loss=0.101, v_num=2] "
     ]
    },
    {
     "name": "stderr",
     "output_type": "stream",
     "text": [
      "dataloaders 2022-12-02:13:26:36,234 DEBUG    [local.py:265] open file: /raid-dgx3/mviti/gits/SegmentationTrainingPipeline/lightning_logs/version_2/checkpoints/epoch=84-step=3315.ckpt\n"
     ]
    },
    {
     "name": "stdout",
     "output_type": "stream",
     "text": [
      "Epoch 85: 100%|██████████| 48/48 [00:06<00:00,  7.24it/s, loss=0.126, v_num=2] "
     ]
    },
    {
     "name": "stderr",
     "output_type": "stream",
     "text": [
      "dataloaders 2022-12-02:13:26:43,907 DEBUG    [local.py:265] open file: /raid-dgx3/mviti/gits/SegmentationTrainingPipeline/lightning_logs/version_2/checkpoints/epoch=85-step=3354.ckpt\n"
     ]
    },
    {
     "name": "stdout",
     "output_type": "stream",
     "text": [
      "Epoch 86: 100%|██████████| 48/48 [00:06<00:00,  7.21it/s, loss=0.107, v_num=2]"
     ]
    },
    {
     "name": "stderr",
     "output_type": "stream",
     "text": [
      "dataloaders 2022-12-02:13:26:51,593 DEBUG    [local.py:265] open file: /raid-dgx3/mviti/gits/SegmentationTrainingPipeline/lightning_logs/version_2/checkpoints/epoch=86-step=3393.ckpt\n"
     ]
    },
    {
     "name": "stdout",
     "output_type": "stream",
     "text": [
      "Epoch 87: 100%|██████████| 48/48 [00:06<00:00,  6.89it/s, loss=0.102, v_num=2]"
     ]
    },
    {
     "name": "stderr",
     "output_type": "stream",
     "text": [
      "dataloaders 2022-12-02:13:26:59,610 DEBUG    [local.py:265] open file: /raid-dgx3/mviti/gits/SegmentationTrainingPipeline/lightning_logs/version_2/checkpoints/epoch=87-step=3432.ckpt\n"
     ]
    },
    {
     "name": "stdout",
     "output_type": "stream",
     "text": [
      "Epoch 88: 100%|██████████| 48/48 [00:06<00:00,  6.93it/s, loss=0.119, v_num=2] "
     ]
    },
    {
     "name": "stderr",
     "output_type": "stream",
     "text": [
      "dataloaders 2022-12-02:13:27:07,614 DEBUG    [local.py:265] open file: /raid-dgx3/mviti/gits/SegmentationTrainingPipeline/lightning_logs/version_2/checkpoints/epoch=88-step=3471.ckpt\n"
     ]
    },
    {
     "name": "stdout",
     "output_type": "stream",
     "text": [
      "Epoch 89: 100%|██████████| 48/48 [00:07<00:00,  6.85it/s, loss=0.0997, v_num=2]"
     ]
    },
    {
     "name": "stderr",
     "output_type": "stream",
     "text": [
      "dataloaders 2022-12-02:13:27:15,701 DEBUG    [local.py:265] open file: /raid-dgx3/mviti/gits/SegmentationTrainingPipeline/lightning_logs/version_2/checkpoints/epoch=89-step=3510.ckpt\n"
     ]
    },
    {
     "name": "stdout",
     "output_type": "stream",
     "text": [
      "Epoch 90: 100%|██████████| 48/48 [00:06<00:00,  7.11it/s, loss=0.101, v_num=2] "
     ]
    },
    {
     "name": "stderr",
     "output_type": "stream",
     "text": [
      "dataloaders 2022-12-02:13:27:23,524 DEBUG    [local.py:265] open file: /raid-dgx3/mviti/gits/SegmentationTrainingPipeline/lightning_logs/version_2/checkpoints/epoch=90-step=3549.ckpt\n"
     ]
    },
    {
     "name": "stdout",
     "output_type": "stream",
     "text": [
      "Epoch 91: 100%|██████████| 48/48 [00:06<00:00,  7.11it/s, loss=0.106, v_num=2] "
     ]
    },
    {
     "name": "stderr",
     "output_type": "stream",
     "text": [
      "dataloaders 2022-12-02:13:27:31,336 DEBUG    [local.py:265] open file: /raid-dgx3/mviti/gits/SegmentationTrainingPipeline/lightning_logs/version_2/checkpoints/epoch=91-step=3588.ckpt\n"
     ]
    },
    {
     "name": "stdout",
     "output_type": "stream",
     "text": [
      "Epoch 92: 100%|██████████| 48/48 [00:06<00:00,  7.07it/s, loss=0.0896, v_num=2]"
     ]
    },
    {
     "name": "stderr",
     "output_type": "stream",
     "text": [
      "dataloaders 2022-12-02:13:27:39,172 DEBUG    [local.py:265] open file: /raid-dgx3/mviti/gits/SegmentationTrainingPipeline/lightning_logs/version_2/checkpoints/epoch=92-step=3627.ckpt\n"
     ]
    },
    {
     "name": "stdout",
     "output_type": "stream",
     "text": [
      "Epoch 93: 100%|██████████| 48/48 [00:07<00:00,  6.65it/s, loss=0.107, v_num=2] "
     ]
    },
    {
     "name": "stderr",
     "output_type": "stream",
     "text": [
      "dataloaders 2022-12-02:13:27:47,435 DEBUG    [local.py:265] open file: /raid-dgx3/mviti/gits/SegmentationTrainingPipeline/lightning_logs/version_2/checkpoints/epoch=93-step=3666.ckpt\n"
     ]
    },
    {
     "name": "stdout",
     "output_type": "stream",
     "text": [
      "Epoch 94: 100%|██████████| 48/48 [00:07<00:00,  6.58it/s, loss=0.109, v_num=2]"
     ]
    },
    {
     "name": "stderr",
     "output_type": "stream",
     "text": [
      "dataloaders 2022-12-02:13:27:55,776 DEBUG    [local.py:265] open file: /raid-dgx3/mviti/gits/SegmentationTrainingPipeline/lightning_logs/version_2/checkpoints/epoch=94-step=3705.ckpt\n"
     ]
    },
    {
     "name": "stdout",
     "output_type": "stream",
     "text": [
      "Epoch 95: 100%|██████████| 48/48 [00:06<00:00,  6.98it/s, loss=0.0975, v_num=2]"
     ]
    },
    {
     "name": "stderr",
     "output_type": "stream",
     "text": [
      "dataloaders 2022-12-02:13:28:03,693 DEBUG    [local.py:265] open file: /raid-dgx3/mviti/gits/SegmentationTrainingPipeline/lightning_logs/version_2/checkpoints/epoch=95-step=3744.ckpt\n"
     ]
    },
    {
     "name": "stdout",
     "output_type": "stream",
     "text": [
      "Epoch 96: 100%|██████████| 48/48 [00:07<00:00,  6.84it/s, loss=0.0822, v_num=2]"
     ]
    },
    {
     "name": "stderr",
     "output_type": "stream",
     "text": [
      "dataloaders 2022-12-02:13:28:11,752 DEBUG    [local.py:265] open file: /raid-dgx3/mviti/gits/SegmentationTrainingPipeline/lightning_logs/version_2/checkpoints/epoch=96-step=3783.ckpt\n"
     ]
    },
    {
     "name": "stdout",
     "output_type": "stream",
     "text": [
      "Epoch 97: 100%|██████████| 48/48 [00:06<00:00,  7.07it/s, loss=0.0998, v_num=2]"
     ]
    },
    {
     "name": "stderr",
     "output_type": "stream",
     "text": [
      "dataloaders 2022-12-02:13:28:19,615 DEBUG    [local.py:265] open file: /raid-dgx3/mviti/gits/SegmentationTrainingPipeline/lightning_logs/version_2/checkpoints/epoch=97-step=3822.ckpt\n"
     ]
    },
    {
     "name": "stdout",
     "output_type": "stream",
     "text": [
      "Epoch 98: 100%|██████████| 48/48 [00:06<00:00,  6.90it/s, loss=0.0975, v_num=2]"
     ]
    },
    {
     "name": "stderr",
     "output_type": "stream",
     "text": [
      "dataloaders 2022-12-02:13:28:27,641 DEBUG    [local.py:265] open file: /raid-dgx3/mviti/gits/SegmentationTrainingPipeline/lightning_logs/version_2/checkpoints/epoch=98-step=3861.ckpt\n"
     ]
    },
    {
     "name": "stdout",
     "output_type": "stream",
     "text": [
      "Epoch 99: 100%|██████████| 48/48 [00:07<00:00,  6.85it/s, loss=0.0834, v_num=2]"
     ]
    },
    {
     "name": "stderr",
     "output_type": "stream",
     "text": [
      "dataloaders 2022-12-02:13:28:35,766 DEBUG    [local.py:265] open file: /raid-dgx3/mviti/gits/SegmentationTrainingPipeline/lightning_logs/version_2/checkpoints/epoch=99-step=3900.ckpt\n",
      "`Trainer.fit` stopped: `max_epochs=100` reached.\n"
     ]
    },
    {
     "name": "stdout",
     "output_type": "stream",
     "text": [
      "Epoch 99: 100%|██████████| 48/48 [00:08<00:00,  5.93it/s, loss=0.0834, v_num=2]\n"
     ]
    }
   ],
   "source": [
    "import torch as th\n",
    "from torch.utils.data import ConcatDataset, DataLoader\n",
    "from torchvision import transforms\n",
    "from pytorch_lightning import Trainer\n",
    "import numpy as np\n",
    "import albumentations as A\n",
    "import pprint as pp\n",
    "import json\n",
    "import cv2\n",
    "\n",
    "from datasets.augmentations import ApplyAlbumination, compose, transposeImage, convertImage2float, convertMask2long\n",
    "from datasets.io import labeler_image_mask_load, rescale_labeler_image_mask_load\n",
    "from datasets import labeler_download_lot, ImageMaskDataset\n",
    "from models.unet import UnetTrainer\n",
    "\n",
    "th.manual_seed(42)\n",
    "\n",
    "# sanity check for data label dictionary\n",
    "n_classes = len(list(label_dict.keys())) + 1\n",
    "assert n_classes == max(list(label_dict.values())) + 1\n",
    "\n",
    "# data formatting\n",
    "# data loading from labeler format\n",
    "image_mask_load_fun=labeler_image_mask_load(maks_label_dict=label_dict)\n",
    "# data loadinf and rescale\n",
    "image_load_fun = rescale_labeler_image_mask_load((resize_height_image, resize_width_image), image_mask_load_fun=image_mask_load_fun)\n",
    "\n",
    "# data augmentation\n",
    "augmentation = ApplyAlbumination(A.Compose([\n",
    "    A.RandomCrop(width=128, height=128),\n",
    "    A.OneOf([\n",
    "        A.RandomSizedCrop(min_max_height=(50, 101), height=128, width=128, p=0.5),\n",
    "        A.PadIfNeeded(min_height=128, min_width=128, p=0.5)\n",
    "    ], p=0.2),    \n",
    "    A.VerticalFlip(p=0.5),              \n",
    "    A.RandomRotate90(p=0.5),\n",
    "    A.OneOf([\n",
    "        A.ElasticTransform(alpha=120, sigma=120 * 0.05, alpha_affine=120 * 0.03, p=0.5),\n",
    "        A.GridDistortion(p=0.5),\n",
    "        A.OpticalDistortion(distort_limit=2, shift_limit=0.5, p=1)                  \n",
    "        ], p=0.8),\n",
    "    A.CLAHE(p=0.8),\n",
    "    A.RandomBrightnessContrast(p=0.8),    \n",
    "    A.RandomGamma(p=0.8)]))\n",
    "                                 \n",
    "# data augmentation and formatting\n",
    "image_mask_train_transform = compose( [ augmentation, transposeImage, convertImage2float, convertMask2long ] )\n",
    "# data formatting\n",
    "image_mask_valid_transform = compose( [ transposeImage, convertImage2float, convertMask2long ] )\n",
    "\n",
    "# load train data batches\n",
    "train_batches = []\n",
    "for train_batch_json in train_batches_json:\n",
    "    image_folder, mask_folder  = labeler_download_lot(os.path.join(train_batch_folder, train_batch_json), only_labels=not download_images)\n",
    "    ds = ImageMaskDataset(image_folder, mask_folder, image_prefix=\"\", mask_prefix=\"\", image_suffix=\".png\", mask_suffix=\".json\",\n",
    "                          image_mask_load_fun=image_load_fun, image_mask_transform=image_mask_train_transform)\n",
    "    train_batches += [ds]\n",
    "train_dataset = ConcatDataset(train_batches)\n",
    "    \n",
    "# load valid data batches\n",
    "valid_batches = []\n",
    "for valid_batch_json in valid_batches_json:\n",
    "    image_folder, mask_folder  = labeler_download_lot(os.path.join(valid_batch_folder, valid_batch_json), only_labels=not download_images)\n",
    "    ds = ImageMaskDataset(image_folder, mask_folder, image_prefix=\"\", mask_prefix=\"\", image_suffix=\".png\", mask_suffix=\".json\",\n",
    "                          image_mask_load_fun=image_load_fun, image_mask_transform=image_mask_valid_transform)\n",
    "    valid_batches += [ds]\n",
    "valid_dataset = ConcatDataset(valid_batches)\n",
    "\n",
    "train_dataloader = DataLoader(train_dataset, batch_size=train_batch_size, shuffle=True)\n",
    "valid_dataloader = DataLoader(valid_dataset, batch_size=valid_batch_size, shuffle=False)\n",
    "\n",
    "# create model and trainer\n",
    "model = UnetTrainer(channels_image,n_classes)\n",
    "trainer = Trainer( max_epochs=max_epochs, accelerator=accelerator, devices=devices, logger=True, log_every_n_steps=log_every_n_steps)\n",
    "trainer.fit(model=model, train_dataloaders=train_dataloader, val_dataloaders=valid_dataloader)\n"
   ]
  }
 ],
 "metadata": {
  "kernelspec": {
   "display_name": "Python 3.7.13 ('Train_py37_th1_13_cu11': conda)",
   "language": "python",
   "name": "python3"
  },
  "language_info": {
   "codemirror_mode": {
    "name": "ipython",
    "version": 3
   },
   "file_extension": ".py",
   "mimetype": "text/x-python",
   "name": "python",
   "nbconvert_exporter": "python",
   "pygments_lexer": "ipython3",
   "version": "3.7.13"
  },
  "orig_nbformat": 4,
  "vscode": {
   "interpreter": {
    "hash": "7fed610e1a06b5e185e0541ec249ca8ae0cd7b0d9096d803e893f46da0eb854b"
   }
  }
 },
 "nbformat": 4,
 "nbformat_minor": 2
}
