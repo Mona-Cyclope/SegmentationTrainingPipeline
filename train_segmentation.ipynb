{
 "cells": [
  {
   "cell_type": "code",
   "execution_count": null,
   "metadata": {},
   "outputs": [],
   "source": [
    "def image_load_fun(path_to_image):\n",
    "    image = cv2.imread(path_to_image)\n",
    "    image = cv2.cvtColor(image, cv2.COLOR_BGR2RGB)\n",
    "    return image\n",
    "\n",
    "def mask_load_fun(path_to_mask):\n",
    "    image = cv2.imread(path_to_image)\n",
    "    return image\n",
    "\n",
    "\n",
    "\n",
    "train_dataloader = SegmentationTrainDataloader(image_folder, mask_folder, \n",
    "                                               image_load_fun=image_load_fun, \n",
    "                                               mask_load_fun=mask_load_fun)\n",
    "\n"
   ]
  }
 ],
 "metadata": {
  "kernelspec": {
   "display_name": "Python 3.6.9 64-bit",
   "language": "python",
   "name": "python3"
  },
  "language_info": {
   "name": "python",
   "version": "3.6.9"
  },
  "orig_nbformat": 4,
  "vscode": {
   "interpreter": {
    "hash": "31f2aee4e71d21fbe5cf8b01ff0e069b9275f58929596ceb00d14d90e3e16cd6"
   }
  }
 },
 "nbformat": 4,
 "nbformat_minor": 2
}
